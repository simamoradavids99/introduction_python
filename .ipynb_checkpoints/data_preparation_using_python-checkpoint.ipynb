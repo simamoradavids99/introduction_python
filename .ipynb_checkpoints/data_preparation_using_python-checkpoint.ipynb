{
 "cells": [
  {
   "cell_type": "code",
   "execution_count": 1,
   "id": "5bb0ffb3",
   "metadata": {},
   "outputs": [],
   "source": [
    "import pandas as pd"
   ]
  },
  {
   "cell_type": "code",
   "execution_count": 2,
   "id": "bcbca70d",
   "metadata": {},
   "outputs": [],
   "source": [
    "df = pd.read_csv('/Users/jojomac/introduction_python/dataset/titanic/train.csv')"
   ]
  },
  {
   "cell_type": "code",
   "execution_count": 3,
   "id": "a0fd3377",
   "metadata": {},
   "outputs": [
    {
     "data": {
      "text/html": [
       "<div>\n",
       "<style scoped>\n",
       "    .dataframe tbody tr th:only-of-type {\n",
       "        vertical-align: middle;\n",
       "    }\n",
       "\n",
       "    .dataframe tbody tr th {\n",
       "        vertical-align: top;\n",
       "    }\n",
       "\n",
       "    .dataframe thead th {\n",
       "        text-align: right;\n",
       "    }\n",
       "</style>\n",
       "<table border=\"1\" class=\"dataframe\">\n",
       "  <thead>\n",
       "    <tr style=\"text-align: right;\">\n",
       "      <th></th>\n",
       "      <th>PassengerId</th>\n",
       "      <th>Survived</th>\n",
       "      <th>Pclass</th>\n",
       "      <th>Name</th>\n",
       "      <th>Sex</th>\n",
       "      <th>Age</th>\n",
       "      <th>SibSp</th>\n",
       "      <th>Parch</th>\n",
       "      <th>Ticket</th>\n",
       "      <th>Fare</th>\n",
       "      <th>Cabin</th>\n",
       "      <th>Embarked</th>\n",
       "    </tr>\n",
       "  </thead>\n",
       "  <tbody>\n",
       "    <tr>\n",
       "      <th>0</th>\n",
       "      <td>1</td>\n",
       "      <td>0</td>\n",
       "      <td>3</td>\n",
       "      <td>Braund, Mr. Owen Harris</td>\n",
       "      <td>male</td>\n",
       "      <td>22.0</td>\n",
       "      <td>1</td>\n",
       "      <td>0</td>\n",
       "      <td>A/5 21171</td>\n",
       "      <td>7.2500</td>\n",
       "      <td>NaN</td>\n",
       "      <td>S</td>\n",
       "    </tr>\n",
       "    <tr>\n",
       "      <th>1</th>\n",
       "      <td>2</td>\n",
       "      <td>1</td>\n",
       "      <td>1</td>\n",
       "      <td>Cumings, Mrs. John Bradley (Florence Briggs Th...</td>\n",
       "      <td>female</td>\n",
       "      <td>38.0</td>\n",
       "      <td>1</td>\n",
       "      <td>0</td>\n",
       "      <td>PC 17599</td>\n",
       "      <td>71.2833</td>\n",
       "      <td>C85</td>\n",
       "      <td>C</td>\n",
       "    </tr>\n",
       "    <tr>\n",
       "      <th>2</th>\n",
       "      <td>3</td>\n",
       "      <td>1</td>\n",
       "      <td>3</td>\n",
       "      <td>Heikkinen, Miss. Laina</td>\n",
       "      <td>female</td>\n",
       "      <td>26.0</td>\n",
       "      <td>0</td>\n",
       "      <td>0</td>\n",
       "      <td>STON/O2. 3101282</td>\n",
       "      <td>7.9250</td>\n",
       "      <td>NaN</td>\n",
       "      <td>S</td>\n",
       "    </tr>\n",
       "    <tr>\n",
       "      <th>3</th>\n",
       "      <td>4</td>\n",
       "      <td>1</td>\n",
       "      <td>1</td>\n",
       "      <td>Futrelle, Mrs. Jacques Heath (Lily May Peel)</td>\n",
       "      <td>female</td>\n",
       "      <td>35.0</td>\n",
       "      <td>1</td>\n",
       "      <td>0</td>\n",
       "      <td>113803</td>\n",
       "      <td>53.1000</td>\n",
       "      <td>C123</td>\n",
       "      <td>S</td>\n",
       "    </tr>\n",
       "    <tr>\n",
       "      <th>4</th>\n",
       "      <td>5</td>\n",
       "      <td>0</td>\n",
       "      <td>3</td>\n",
       "      <td>Allen, Mr. William Henry</td>\n",
       "      <td>male</td>\n",
       "      <td>35.0</td>\n",
       "      <td>0</td>\n",
       "      <td>0</td>\n",
       "      <td>373450</td>\n",
       "      <td>8.0500</td>\n",
       "      <td>NaN</td>\n",
       "      <td>S</td>\n",
       "    </tr>\n",
       "  </tbody>\n",
       "</table>\n",
       "</div>"
      ],
      "text/plain": [
       "   PassengerId  Survived  Pclass  \\\n",
       "0            1         0       3   \n",
       "1            2         1       1   \n",
       "2            3         1       3   \n",
       "3            4         1       1   \n",
       "4            5         0       3   \n",
       "\n",
       "                                                Name     Sex   Age  SibSp  \\\n",
       "0                            Braund, Mr. Owen Harris    male  22.0      1   \n",
       "1  Cumings, Mrs. John Bradley (Florence Briggs Th...  female  38.0      1   \n",
       "2                             Heikkinen, Miss. Laina  female  26.0      0   \n",
       "3       Futrelle, Mrs. Jacques Heath (Lily May Peel)  female  35.0      1   \n",
       "4                           Allen, Mr. William Henry    male  35.0      0   \n",
       "\n",
       "   Parch            Ticket     Fare Cabin Embarked  \n",
       "0      0         A/5 21171   7.2500   NaN        S  \n",
       "1      0          PC 17599  71.2833   C85        C  \n",
       "2      0  STON/O2. 3101282   7.9250   NaN        S  \n",
       "3      0            113803  53.1000  C123        S  \n",
       "4      0            373450   8.0500   NaN        S  "
      ]
     },
     "execution_count": 3,
     "metadata": {},
     "output_type": "execute_result"
    }
   ],
   "source": [
    "df.head()"
   ]
  },
  {
   "cell_type": "markdown",
   "id": "2c98c9d2",
   "metadata": {},
   "source": [
    "## 1. Data Cleaning \n",
    "\n",
    "Data Cleaning merupakan proses untuk membersihkan data menjadi lebih mudah dimengerti menjadi lebih informatif, dan menghapus data data yang rusak atau data data yang tidak terlalu diperlukan dalam proses analysis. Data Cleaning dapat meliputi menghapus data null, mengganti data dan nilai tertentu, dll"
   ]
  },
  {
   "cell_type": "code",
   "execution_count": null,
   "id": "92480c7e",
   "metadata": {},
   "outputs": [],
   "source": [
    "# Mengecek berapa jumlah null value pada masing masing kolom. \n",
    "jumlah_missing = pd.isnull(df).sum()\n",
    "jumlah_missing"
   ]
  },
  {
   "cell_type": "code",
   "execution_count": 6,
   "id": "4819c201",
   "metadata": {},
   "outputs": [
    {
     "data": {
      "text/plain": [
       "PassengerId      0\n",
       "Survived         0\n",
       "Pclass           0\n",
       "Name             0\n",
       "Sex              0\n",
       "Age            177\n",
       "SibSp            0\n",
       "Parch            0\n",
       "Ticket           0\n",
       "Fare             0\n",
       "Cabin          687\n",
       "Embarked         2\n",
       "dtype: int64"
      ]
     },
     "execution_count": 6,
     "metadata": {},
     "output_type": "execute_result"
    }
   ],
   "source": [
    "jumlah_missing = pd.isnull(df).sum()\n",
    "jumlah_missing"
   ]
  },
  {
   "cell_type": "code",
   "execution_count": null,
   "id": "b54fe40a",
   "metadata": {},
   "outputs": [],
   "source": [
    "# menghitung ratio missing value pada metrics cabin\n",
    "rasio = jumlah_missing.div(len(df))\n",
    "rasio"
   ]
  },
  {
   "cell_type": "code",
   "execution_count": null,
   "id": "0f0f823d",
   "metadata": {},
   "outputs": [],
   "source": []
  },
  {
   "cell_type": "raw",
   "id": "2e4b0283",
   "metadata": {},
   "source": []
  },
  {
   "cell_type": "code",
   "execution_count": null,
   "id": "685c5ca9",
   "metadata": {},
   "outputs": [],
   "source": [
    "#hapus kolom cabin\n",
    "# Kolom Cabin memiliki jumlah missing value hingga 77% sehingga kolom Kabin lebih baik dihilangkan (drop) dari table\n",
    "df = df.drop(['Cabin'], axis=1)"
   ]
  },
  {
   "cell_type": "code",
   "execution_count": null,
   "id": "b8aa1f14",
   "metadata": {},
   "outputs": [],
   "source": [
    "df.head()"
   ]
  },
  {
   "cell_type": "code",
   "execution_count": null,
   "id": "04528bb5",
   "metadata": {},
   "outputs": [],
   "source": [
    "# Statistik descriptif dari variabel age\n",
    "df['Age'].describe()"
   ]
  },
  {
   "cell_type": "code",
   "execution_count": null,
   "id": "8b051d14",
   "metadata": {},
   "outputs": [],
   "source": [
    "# menghitung ratio missing value pada metrics cabin\n",
    "rasio = jumlah_missing.div(len(df))\n",
    "rasio"
   ]
  },
  {
   "cell_type": "markdown",
   "id": "67cb222e",
   "metadata": {},
   "source": [
    "### 1.1 Handling Kolom Numerikal"
   ]
  },
  {
   "cell_type": "markdown",
   "id": "6fefa8ba",
   "metadata": {},
   "source": [
    "Setelah mengahapus kolom cabin nyatanya masih terdapat beberapa missing value pada dataset kita, ada beberapa hal yang bisa dilakukan, untuk data numerikal yaitu dengan menghapus datanull tersebut, atau melakukan inputation. Apabila nilai mean dengan median tidak terlalu jauh maka efektifnya adlaah dengan inputation, biasanya dengan mengganti dengan nilai rata rata kolom tersebut"
   ]
  },
  {
   "cell_type": "code",
   "execution_count": null,
   "id": "c750f510",
   "metadata": {},
   "outputs": [],
   "source": [
    "# Mengubah NaNs dengan nilai Mean \n",
    "df['Age'].fillna(int(df['Age'].mean()), inplace=True)"
   ]
  },
  {
   "cell_type": "code",
   "execution_count": null,
   "id": "3c3f8a31",
   "metadata": {},
   "outputs": [],
   "source": [
    "# Cek kembali apakah masih terdapat missing value\n",
    "pd.isnull(df).sum()"
   ]
  },
  {
   "cell_type": "markdown",
   "id": "e46871cb",
   "metadata": {},
   "source": [
    "### 1.2 Handling Kategorikal\n",
    "\n",
    "Handling Kategorikal biasanya dilakukan dengan nilai modus / data yang paling sering langsung"
   ]
  },
  {
   "cell_type": "code",
   "execution_count": null,
   "id": "c526fc40",
   "metadata": {},
   "outputs": [],
   "source": [
    "df['Embarked'].mode()"
   ]
  },
  {
   "cell_type": "code",
   "execution_count": null,
   "id": "ad7e1a89",
   "metadata": {},
   "outputs": [],
   "source": [
    "df['Embarked'].fillna(df['Embarked'].mode()[0], inplace=True)"
   ]
  },
  {
   "cell_type": "code",
   "execution_count": null,
   "id": "24d26f98",
   "metadata": {},
   "outputs": [],
   "source": [
    "# Cek kembali apakah masih terdapat missing value\n",
    "pd.isnull(df).sum()"
   ]
  },
  {
   "cell_type": "markdown",
   "id": "b6e19077",
   "metadata": {},
   "source": [
    "### 1.3 Check Duplicate Value"
   ]
  },
  {
   "cell_type": "code",
   "execution_count": null,
   "id": "4f1a3f72",
   "metadata": {},
   "outputs": [],
   "source": [
    "# Mengidentifikasi apakah terdapat duplicate value pada tabel dengan acuan kolom PassengerId\n",
    "df[df[\"PassengerId\"].duplicated(keep=False)].sort_values(\"PassengerId\")"
   ]
  },
  {
   "cell_type": "markdown",
   "id": "4f5ddfd9",
   "metadata": {},
   "source": [
    "## 2. Data Manipulation"
   ]
  },
  {
   "cell_type": "markdown",
   "id": "c58d087f",
   "metadata": {},
   "source": [
    "### 2.1 Mengganti tipe data"
   ]
  },
  {
   "cell_type": "code",
   "execution_count": null,
   "id": "2314f5b3",
   "metadata": {},
   "outputs": [],
   "source": [
    "df.head()"
   ]
  },
  {
   "cell_type": "code",
   "execution_count": null,
   "id": "f7251d93",
   "metadata": {},
   "outputs": [],
   "source": [
    "df.info()"
   ]
  },
  {
   "cell_type": "code",
   "execution_count": null,
   "id": "8980ce32",
   "metadata": {},
   "outputs": [],
   "source": [
    "# Mengecek tipe data salah satu kolom\n",
    "df[\"Parch\"].dtypes"
   ]
  },
  {
   "cell_type": "code",
   "execution_count": null,
   "id": "b57d6278",
   "metadata": {},
   "outputs": [],
   "source": [
    "# Mengubah data type\n",
    "df['Parch_string'] = df['Parch'].astype(str)\n",
    "df['PassengerId_string'] = df['PassengerId'].astype(str)"
   ]
  },
  {
   "cell_type": "code",
   "execution_count": null,
   "id": "55b526d0",
   "metadata": {},
   "outputs": [],
   "source": [
    "# Cek kembali tipe data\n",
    "df[\"Parch_string\"].dtypes"
   ]
  },
  {
   "cell_type": "code",
   "execution_count": null,
   "id": "518dc378",
   "metadata": {},
   "outputs": [],
   "source": [
    "df[\"PassengerId_string\"].dtypes"
   ]
  },
  {
   "cell_type": "code",
   "execution_count": null,
   "id": "b9b28e1c",
   "metadata": {},
   "outputs": [],
   "source": [
    "df.info()"
   ]
  },
  {
   "cell_type": "markdown",
   "id": "4d553911",
   "metadata": {},
   "source": [
    "### 2.2 Rename Column"
   ]
  },
  {
   "cell_type": "code",
   "execution_count": null,
   "id": "a4260eae",
   "metadata": {},
   "outputs": [],
   "source": [
    "df = df.rename(columns={\"Pclass\": \"PassengerClass\", \"Sex\": \"Gender\", \"SibSp\":\"Sibling\", \"Parch\":\"Parent\"})"
   ]
  },
  {
   "cell_type": "code",
   "execution_count": null,
   "id": "2f24f666",
   "metadata": {},
   "outputs": [],
   "source": [
    "df.head()"
   ]
  },
  {
   "cell_type": "markdown",
   "id": "6451f675",
   "metadata": {},
   "source": [
    "### 2.3 Remove kolom yang tidak diperlukan"
   ]
  },
  {
   "cell_type": "code",
   "execution_count": null,
   "id": "b97b005a",
   "metadata": {},
   "outputs": [],
   "source": [
    "df = df.drop(['Parch_string','PassengerId_string'],axis = 1)"
   ]
  },
  {
   "cell_type": "code",
   "execution_count": null,
   "id": "fe29cb2b",
   "metadata": {},
   "outputs": [],
   "source": [
    "df.head()"
   ]
  },
  {
   "cell_type": "code",
   "execution_count": null,
   "id": "a9cb7446",
   "metadata": {},
   "outputs": [],
   "source": [
    "# Memfilter seluruh data penumpang laki-laki\n",
    "male = df[df['Gender'] == 'male']"
   ]
  },
  {
   "cell_type": "code",
   "execution_count": null,
   "id": "7a04eee9",
   "metadata": {},
   "outputs": [],
   "source": [
    "male"
   ]
  },
  {
   "cell_type": "code",
   "execution_count": null,
   "id": "22e63b47",
   "metadata": {},
   "outputs": [],
   "source": [
    "# Memfilter seluruh data penumpangan balita (usia 5 tahun ke bawah)\n",
    "balita = df[df['Age'] <= 5]"
   ]
  },
  {
   "cell_type": "code",
   "execution_count": null,
   "id": "3e0d853b",
   "metadata": {},
   "outputs": [],
   "source": [
    "balita.head(10)"
   ]
  },
  {
   "cell_type": "markdown",
   "id": "49c7bbd8",
   "metadata": {},
   "source": [
    "## 3. Data Wrangling"
   ]
  },
  {
   "cell_type": "markdown",
   "id": "b8e8b704",
   "metadata": {},
   "source": [
    "### 3.1 Merging"
   ]
  },
  {
   "cell_type": "code",
   "execution_count": null,
   "id": "fffc852f",
   "metadata": {},
   "outputs": [],
   "source": [
    "survived = df[['PassengerId','Survived']]\n",
    "age = df[['PassengerId','Age']]"
   ]
  },
  {
   "cell_type": "code",
   "execution_count": null,
   "id": "3730bd7c",
   "metadata": {},
   "outputs": [],
   "source": [
    "# Menggabungkan Tabel survived dengan tabel Age dengan PassengerId menjadi key nya\n",
    "df_new = survived.merge(age, how='left', on='PassengerId')"
   ]
  },
  {
   "cell_type": "code",
   "execution_count": null,
   "id": "e6e5026d",
   "metadata": {},
   "outputs": [],
   "source": [
    "df_new"
   ]
  },
  {
   "cell_type": "markdown",
   "id": "823a93c2",
   "metadata": {},
   "source": [
    "### 3.2 Group by"
   ]
  },
  {
   "cell_type": "code",
   "execution_count": null,
   "id": "c03364ad",
   "metadata": {},
   "outputs": [],
   "source": [
    "df.groupby(by=[\"Survived\", \"Gender\"], dropna=False).count()[['PassengerId']]"
   ]
  },
  {
   "cell_type": "markdown",
   "id": "a80097d5",
   "metadata": {},
   "source": [
    "### 3.3 Correlation"
   ]
  },
  {
   "cell_type": "code",
   "execution_count": null,
   "id": "309b4179",
   "metadata": {},
   "outputs": [],
   "source": [
    "df.corr()"
   ]
  },
  {
   "cell_type": "code",
   "execution_count": null,
   "id": "f1860060",
   "metadata": {},
   "outputs": [],
   "source": []
  }
 ],
 "metadata": {
  "kernelspec": {
   "display_name": "Python 3 (ipykernel)",
   "language": "python",
   "name": "python3"
  },
  "language_info": {
   "codemirror_mode": {
    "name": "ipython",
    "version": 3
   },
   "file_extension": ".py",
   "mimetype": "text/x-python",
   "name": "python",
   "nbconvert_exporter": "python",
   "pygments_lexer": "ipython3",
   "version": "3.10.9"
  }
 },
 "nbformat": 4,
 "nbformat_minor": 5
}
