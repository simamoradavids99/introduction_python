{
 "cells": [
  {
   "cell_type": "markdown",
   "metadata": {
    "id": "EO9ixRYxCsqW"
   },
   "source": [
    "##1. Start with Hello World"
   ]
  },
  {
   "cell_type": "code",
   "execution_count": null,
   "metadata": {
    "colab": {
     "base_uri": "https://localhost:8080/"
    },
    "id": "BFB-HGivCWVj",
    "outputId": "bb346629-2215-4c5c-b732-b088d00fe76c"
   },
   "outputs": [],
   "source": [
    "print('Hello World')"
   ]
  },
  {
   "cell_type": "markdown",
   "metadata": {
    "id": "7ZEec9cBBGb1"
   },
   "source": []
  },
  {
   "cell_type": "markdown",
   "metadata": {
    "id": "3vcN0UWFC_JW"
   },
   "source": [
    "## 2.Variables\n",
    "\n",
    "Dalam standar pemrograman terdapat beberapa aturan dalam penggunaan variabel (naming convencion) yaitu camelCase, snake_case, dan CamelCase. Ketiga naming convencion ini valid , dan dilarang untuk menggabungkan angka atau karakter kedalam penamaan variabel"
   ]
  },
  {
   "cell_type": "code",
   "execution_count": null,
   "metadata": {
    "id": "6fKS_RlWCvIn"
   },
   "outputs": [],
   "source": [
    "camelCase = 'camel'\n",
    "snake_case = 'snake'\n",
    "PascalCase = 'pascal'\n",
    "\n"
   ]
  },
  {
   "cell_type": "code",
   "execution_count": null,
   "metadata": {
    "colab": {
     "base_uri": "https://localhost:8080/",
     "height": 35
    },
    "id": "c8P5KR43DhCw",
    "outputId": "9da7bce6-2bbc-42c7-e0dc-ab78a3f9cbf8"
   },
   "outputs": [],
   "source": [
    "camelCase"
   ]
  },
  {
   "cell_type": "code",
   "execution_count": null,
   "metadata": {
    "colab": {
     "base_uri": "https://localhost:8080/",
     "height": 35
    },
    "id": "I8D0BDDnDs0R",
    "outputId": "ac41721f-f180-4e6f-b49e-2c0f3665ca6c"
   },
   "outputs": [],
   "source": [
    "snake_case"
   ]
  },
  {
   "cell_type": "code",
   "execution_count": null,
   "metadata": {
    "colab": {
     "base_uri": "https://localhost:8080/",
     "height": 35
    },
    "id": "wtiIEfo1EK1z",
    "outputId": "6ea1babd-9b3d-47b7-b665-b06b3fc3bad1"
   },
   "outputs": [],
   "source": [
    "PascalCase"
   ]
  },
  {
   "cell_type": "code",
   "execution_count": null,
   "metadata": {
    "id": "zZWapSVjEMBC"
   },
   "outputs": [],
   "source": [
    "#1arm = 'one'"
   ]
  },
  {
   "cell_type": "markdown",
   "metadata": {
    "id": "JI5g6GrnEdaC"
   },
   "source": [
    "## 2.Comment\n",
    "\n",
    "Comment meruapakan suatu tindakan untuk menambahkan kalimat dalam struktur kode yang sedang kita buat tanpa harus perlu di compile oleh compiler, misalnya untuk memberikan step pengerjaan atau menjelaskan detail penggunaan suatu kode"
   ]
  },
  {
   "cell_type": "code",
   "execution_count": null,
   "metadata": {
    "id": "XWGaeJ9WEQK9"
   },
   "outputs": [],
   "source": [
    "world = 'hello world' # cara membuat variabel\n",
    "# hello = 'hello world'"
   ]
  },
  {
   "cell_type": "code",
   "execution_count": null,
   "metadata": {
    "colab": {
     "base_uri": "https://localhost:8080/",
     "height": 35
    },
    "id": "naMNRWIBFTDm",
    "outputId": "7190cc5d-4f8c-4be4-ff07-1b0cb8ae31ad"
   },
   "outputs": [],
   "source": [
    "world"
   ]
  },
  {
   "cell_type": "code",
   "execution_count": null,
   "metadata": {
    "id": "rkm7oFY5FXuu"
   },
   "outputs": [],
   "source": [
    "#hello"
   ]
  },
  {
   "cell_type": "markdown",
   "metadata": {
    "id": "LEAfnnSQE_jg"
   },
   "source": [
    "Pada line pertama terlihat bahwa saat mendeklarasikan variabel world kita menambahkan keterangan dengan comment untuk memberikan penjelasan / detail, sedangkan pada line kedua kodenya di berikan komen sehingga tidak ikut diekseskusi dan menimbulkan error ketika variabel hello ingin kita panggil , cara pengguaan komen pada python adalah dengan menambahkan tanda # pada kodingan"
   ]
  },
  {
   "cell_type": "markdown",
   "metadata": {
    "id": "j34gZ0XVFfbI"
   },
   "source": [
    "## 3. Data Types\n",
    "Data Types merupakan jenis atau pengelompokan suatu data yang akan disimpan ke variabel sehingga computer dapat mengenalinya. Terdapat beberapa jenis tipe data diantaranya\n",
    "\n",
    "1. INTEGER\n",
    "2. FLOAT\n",
    "3. STRINGS\n",
    "4. BOOLEAN\n",
    "\n"
   ]
  },
  {
   "cell_type": "markdown",
   "metadata": {
    "id": "N_9eDFa3HrfL"
   },
   "source": [
    "###3.1 Integer\n",
    "Integer berarti bilangan bulat mis : 1,3,5,10,200, dll"
   ]
  },
  {
   "cell_type": "code",
   "execution_count": null,
   "metadata": {
    "id": "rwAEUoPTE94T"
   },
   "outputs": [],
   "source": [
    "a = 1\n",
    "b = 2"
   ]
  },
  {
   "cell_type": "code",
   "execution_count": null,
   "metadata": {
    "colab": {
     "base_uri": "https://localhost:8080/"
    },
    "id": "kKt6vDJCHotn",
    "outputId": "700cf6c9-4f37-41ba-a4f0-84e167df54e3"
   },
   "outputs": [],
   "source": [
    "print(a, b)\n",
    "print(type(a), type(b))"
   ]
  },
  {
   "cell_type": "markdown",
   "metadata": {
    "id": "cQ5yUfdgIesY"
   },
   "source": [
    "*Notes : Salah satu kelebihan python adalah bahwa ketika kita mendeklarasikan suatu variabel kita tidak perlu mendefiniskan tipe datanya, dalam kata lain tipe datanya akan membaca ke value yang di assign ke variabel tersebut, pengecekan tipe data dapat dilakukan dengan menggunakan type*"
   ]
  },
  {
   "cell_type": "markdown",
   "metadata": {
    "id": "wDunZPOaJF_0"
   },
   "source": [
    "### 3.2 FLoat\n",
    "Float merupakan tipe data yang bersifat desimal"
   ]
  },
  {
   "cell_type": "code",
   "execution_count": null,
   "metadata": {
    "colab": {
     "base_uri": "https://localhost:8080/"
    },
    "id": "Lmf03KSYI0zS",
    "outputId": "30e19bb2-2364-4d37-edc4-1a6a508ecfde"
   },
   "outputs": [],
   "source": [
    "c = 3.14\n",
    "print(type(c))"
   ]
  },
  {
   "cell_type": "markdown",
   "metadata": {
    "id": "gFhD4qplJU6A"
   },
   "source": [
    "###3.3 Strings\n",
    "String merupakan tipe data yang menyimpan kata atau kalimat\n"
   ]
  },
  {
   "cell_type": "code",
   "execution_count": null,
   "metadata": {
    "colab": {
     "base_uri": "https://localhost:8080/"
    },
    "id": "0ofJ8QBgJNL_",
    "outputId": "ad79afad-9c2c-497a-d86d-ce109a31f3e4"
   },
   "outputs": [],
   "source": [
    "d = \"data analysis\"\n",
    "print(d)\n",
    "print(type(d))"
   ]
  },
  {
   "cell_type": "markdown",
   "metadata": {
    "id": "YPbcNNw7Twr7"
   },
   "source": [
    "###3.4 Boolean"
   ]
  },
  {
   "cell_type": "code",
   "execution_count": null,
   "metadata": {
    "colab": {
     "base_uri": "https://localhost:8080/"
    },
    "id": "F-hCDzPhTu6W",
    "outputId": "91b4dc04-eb43-48db-cf66-dd739313dc56"
   },
   "outputs": [],
   "source": [
    "a = True\n",
    "print(a)\n",
    "print(type(a))"
   ]
  },
  {
   "cell_type": "code",
   "execution_count": null,
   "metadata": {
    "id": "rqzWJEghYCHV"
   },
   "outputs": [],
   "source": [
    "a = 1\n",
    "b = 2"
   ]
  },
  {
   "cell_type": "code",
   "execution_count": null,
   "metadata": {
    "colab": {
     "base_uri": "https://localhost:8080/"
    },
    "id": "P-e3V3qoYGYE",
    "outputId": "74e1b2ad-105c-4d20-dd8b-b29d1a1ba4f6"
   },
   "outputs": [],
   "source": [
    "print(a > 1)"
   ]
  },
  {
   "cell_type": "markdown",
   "metadata": {
    "id": "KECii-3jBw4S"
   },
   "source": [
    "## 4. Condition\n",
    "Pada pemrograman condition digunakan untuk pengecekan suatu value atau logika tertentu\n",
    "Dalam bahasa pemrograman python dan bahasa pemrograman pada umumnya condition menggunakan if, else, else if / elif (pada python)\n"
   ]
  },
  {
   "cell_type": "code",
   "execution_count": null,
   "metadata": {
    "colab": {
     "base_uri": "https://localhost:8080/"
    },
    "id": "kIQ8yKOlaM7A",
    "outputId": "4b076dbe-9c75-4503-947f-784222603441"
   },
   "outputs": [],
   "source": [
    "#contoh penggunaan if\n",
    "a = 1\n",
    "if(a == 1):\n",
    "  print('benar')"
   ]
  },
  {
   "cell_type": "code",
   "execution_count": null,
   "metadata": {
    "colab": {
     "base_uri": "https://localhost:8080/"
    },
    "id": "YRL2mo9gCPxG",
    "outputId": "8c8d7f55-75ec-4cbb-d080-d89031f4284a"
   },
   "outputs": [],
   "source": [
    "#contoh penggunaan if dan else\n",
    "b = 2\n",
    "if(a == 1):\n",
    "  print('benar')\n",
    "else:\n",
    "  print('salah')"
   ]
  },
  {
   "cell_type": "markdown",
   "metadata": {
    "id": "DuOT4jYTC7fi"
   },
   "source": [
    "### Notes\n",
    "Perhatikan perbedaan antara penggunaan = dan == , dalam pemrograman = digunakan untuk mengassign value ke variabel sedangkan == untuk melakukan pengecekan value kedalam variabel tersebut"
   ]
  },
  {
   "cell_type": "code",
   "execution_count": null,
   "metadata": {
    "colab": {
     "base_uri": "https://localhost:8080/"
    },
    "id": "xYsaZ-ylCj7u",
    "outputId": "dbced759-1cec-45e3-c4a5-a25835d83ea5"
   },
   "outputs": [],
   "source": [
    "#contoh penggunaan if , else, dan elif\n",
    "c =3\n",
    "if (c == 3):\n",
    "     print(\"ini adalah angka 3\")\n",
    "elif (c > 3):\n",
    "     print(\"lebih besar dari 5\")\n",
    "else:\n",
    "     print(\"lebih kecil dari 5\")"
   ]
  },
  {
   "cell_type": "markdown",
   "metadata": {
    "id": "SyD5RiU3DvIc"
   },
   "source": [
    "Contoh Studi Kasus :\n",
    "Seorang guru ingin melakukan grading pada ujian mendatang dengan ketentutan sebagai berikut : <br>\n",
    "0 - 29 : E <br>\n",
    "30 - 49 : D<br>\n",
    "50 - 69 : C<br>\n",
    "70 - 79 : B <br>\n",
    "80 - 100 : A <br>\n",
    "\n",
    "Buatlah program dengan python dengan menggunakan logic tersebut. Gunakan input() untuk melakukan input nilai"
   ]
  },
  {
   "cell_type": "code",
   "execution_count": null,
   "metadata": {
    "colab": {
     "base_uri": "https://localhost:8080/"
    },
    "id": "AAckhcMtDfjk",
    "outputId": "58749302-00ac-474b-e4e3-85d4e7f9aef9"
   },
   "outputs": [],
   "source": [
    "input = int(input())"
   ]
  },
  {
   "cell_type": "code",
   "execution_count": null,
   "metadata": {
    "colab": {
     "base_uri": "https://localhost:8080/"
    },
    "id": "9v5vvi1NG54-",
    "outputId": "c8646826-9c01-46fb-c416-93dc19b3b762"
   },
   "outputs": [],
   "source": [
    "if (input >= 0 and input < 30):\n",
    "  print('E')\n",
    "elif(input >=30 and input < 50):\n",
    "  print('D')\n",
    "elif(input >= 50 and input < 70):\n",
    "  print('C')\n",
    "elif(input >= 70 and input <= 80):\n",
    "  print('B')\n",
    "else:\n",
    "  print('A')"
   ]
  },
  {
   "cell_type": "markdown",
   "metadata": {
    "id": "7hEjqBjSK2BL"
   },
   "source": [
    "## 5. Looping"
   ]
  },
  {
   "cell_type": "markdown",
   "metadata": {
    "id": "orsvPbWnLV3Y"
   },
   "source": [
    "Looping perulangan merupakan suatu fundamental dalam programming yang memungkinkan kita untuk melakukan control flow untuk mengeksekusi suatu instruksi atau perintah secara berulang.\n",
    "Contoh kasus : misalkan kita ingin membagi 10 coklat kepada 10 orang teman kita, maka kasus tersebut dapat disebut sebagai looping atau perulangan , karena kita melakukan instruksi untuk membagi coklat sebanyak 10 kali. Dan dengan konsep looping ini kita bisa membagi 10 coklat sekaligus dengan 1 instruksi kode.\n",
    "\n",
    "Terdapat 2 jenis looping dalam pemrograman yaitu for looping dan while looping. Berikut implementasinya\n"
   ]
  },
  {
   "cell_type": "markdown",
   "metadata": {
    "id": "Cfd1-N8hMjZM"
   },
   "source": [
    "### 5. 1 For Looping\n",
    "For looping digunakan untuk melakukan suatu perulangan dalam suatu urutan misalkan : list, tuple, dan range."
   ]
  },
  {
   "cell_type": "code",
   "execution_count": null,
   "metadata": {
    "colab": {
     "base_uri": "https://localhost:8080/"
    },
    "id": "pColNJwgHerT",
    "outputId": "a13cf460-2e4d-4279-9cd4-b77dd51f613f"
   },
   "outputs": [],
   "source": [
    "materi = [\"python\", \"sql\", \"visdat\"]\n",
    "for i in materi:\n",
    "    print(\"Saya belajar\", i)\n"
   ]
  },
  {
   "cell_type": "markdown",
   "metadata": {
    "id": "H0ai4aiSTP0z"
   },
   "source": [
    "### 5.2 While Looping\n",
    "While looping digunakan untuk melakukan looping selama kondisi yang diberikan masih memberikan nilai true\n",
    "\n"
   ]
  },
  {
   "cell_type": "code",
   "execution_count": null,
   "metadata": {
    "colab": {
     "base_uri": "https://localhost:8080/"
    },
    "id": "vpKFH6HdRgt8",
    "outputId": "7919d63e-2404-4519-f02c-9411c9e8da75"
   },
   "outputs": [],
   "source": [
    "count = 0\n",
    "while count < 5:\n",
    "    print(\"Count is:\", count)\n",
    "    count += 1"
   ]
  },
  {
   "cell_type": "code",
   "execution_count": null,
   "metadata": {
    "colab": {
     "base_uri": "https://localhost:8080/"
    },
    "id": "0DnCzcKQTkyQ",
    "outputId": "e33f0350-03a7-4169-ac72-721ae3527906"
   },
   "outputs": [],
   "source": [
    "# Implementasi Studi kasus pembagian coklat\n",
    "# Misal total coklat 10\n",
    "num_chocolates = 10\n",
    "\n",
    "# Loop\n",
    "for friend in range(1, num_chocolates + 1):\n",
    "    print(\"Memberi chocolate\", friend)\n",
    "\n"
   ]
  },
  {
   "cell_type": "markdown",
   "metadata": {
    "id": "pMpFWdPOVl7L"
   },
   "source": [
    "### 5.3 Range\n",
    "Range pada python merupakan sebuah fungsi yang digunakan untuk mereturn suatu angka atau bilangan sesuai dengan statement/parameter yang diberikan dimana paramter dari range diantaranya adalah sebagai berikut: <br>\n",
    "\n",
    "<b>range(start, stop, step)<b>"
   ]
  },
  {
   "cell_type": "code",
   "execution_count": null,
   "metadata": {
    "colab": {
     "base_uri": "https://localhost:8080/"
    },
    "id": "dXby5hWvT3cu",
    "outputId": "2c379bd1-ec30-47e6-87ff-d692612b061e"
   },
   "outputs": [],
   "source": [
    "for i in range(5):\n",
    "    print(i)\n"
   ]
  },
  {
   "cell_type": "code",
   "execution_count": null,
   "metadata": {
    "colab": {
     "base_uri": "https://localhost:8080/"
    },
    "id": "O0_wlYKsXQo7",
    "outputId": "c4999609-cba5-4850-e339-91302d41e276"
   },
   "outputs": [],
   "source": [
    "for i in range(1, 11, 2):\n",
    "    print(i)\n"
   ]
  }
 ],
 "metadata": {
  "colab": {
   "provenance": []
  },
  "kernelspec": {
   "display_name": "Python 3 (ipykernel)",
   "language": "python",
   "name": "python3"
  },
  "language_info": {
   "codemirror_mode": {
    "name": "ipython",
    "version": 3
   },
   "file_extension": ".py",
   "mimetype": "text/x-python",
   "name": "python",
   "nbconvert_exporter": "python",
   "pygments_lexer": "ipython3",
   "version": "3.10.9"
  }
 },
 "nbformat": 4,
 "nbformat_minor": 1
}
