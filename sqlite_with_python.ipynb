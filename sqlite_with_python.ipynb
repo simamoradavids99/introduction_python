{
 "cells": [
  {
   "cell_type": "markdown",
   "id": "169c7737",
   "metadata": {},
   "source": [
    "### Sqlite\n",
    "Sqlite merupakan salah satu bagian dari light-weight database yang cenderung lebih ringan dibanding dengan jenis RDBMS lainnya seperti mysql ataupun postgresql"
   ]
  },
  {
   "cell_type": "code",
   "execution_count": 1,
   "id": "d5b74bea",
   "metadata": {},
   "outputs": [],
   "source": [
    "# import sqlite package\n",
    "import sqlite3\n",
    "import pandas as pd"
   ]
  },
  {
   "cell_type": "code",
   "execution_count": 2,
   "id": "230b7aa7",
   "metadata": {},
   "outputs": [],
   "source": [
    "conn = sqlite3.connect('/Users/jojomac/introduction_python/test_db.db/')"
   ]
  },
  {
   "cell_type": "code",
   "execution_count": 3,
   "id": "02696fc8",
   "metadata": {},
   "outputs": [],
   "source": [
    "cur = conn.cursor()"
   ]
  },
  {
   "cell_type": "code",
   "execution_count": 5,
   "id": "1a4b7f10",
   "metadata": {},
   "outputs": [
    {
     "data": {
      "text/plain": [
       "<sqlite3.Cursor at 0x110b4fac0>"
      ]
     },
     "execution_count": 5,
     "metadata": {},
     "output_type": "execute_result"
    }
   ],
   "source": [
    "cur.execute('''CREATE TABLE employee (\n",
    "              id INT, \n",
    "              name TEXT, \n",
    "              departement TEXT\n",
    "            )''')"
   ]
  },
  {
   "cell_type": "code",
   "execution_count": 6,
   "id": "93ddb02b",
   "metadata": {},
   "outputs": [
    {
     "name": "stdout",
     "output_type": "stream",
     "text": [
      "[('employee',)]\n"
     ]
    }
   ],
   "source": [
    "cur.execute(\"SELECT name FROM sqlite_master WHERE type = 'table';\")\n",
    "print(cur.fetchall())\n"
   ]
  },
  {
   "cell_type": "markdown",
   "id": "d47c6c19",
   "metadata": {},
   "source": []
  },
  {
   "cell_type": "markdown",
   "id": "b4471c6a",
   "metadata": {},
   "source": []
  }
 ],
 "metadata": {
  "kernelspec": {
   "display_name": "Python 3 (ipykernel)",
   "language": "python",
   "name": "python3"
  },
  "language_info": {
   "codemirror_mode": {
    "name": "ipython",
    "version": 3
   },
   "file_extension": ".py",
   "mimetype": "text/x-python",
   "name": "python",
   "nbconvert_exporter": "python",
   "pygments_lexer": "ipython3",
   "version": "3.11.3"
  }
 },
 "nbformat": 4,
 "nbformat_minor": 5
}
