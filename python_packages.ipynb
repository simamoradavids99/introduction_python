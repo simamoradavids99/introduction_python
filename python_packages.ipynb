{
 "cells": [
  {
   "cell_type": "markdown",
   "id": "465455ba",
   "metadata": {},
   "source": [
    "Terdapat beberapa packages pada python yang sangat berguna ketika melakukan proyek data analysis, seperti python, numpy, math, dan lain-lain, tergantung dengan kebutuhan kita"
   ]
  },
  {
   "cell_type": "markdown",
   "id": "64e36dc8",
   "metadata": {},
   "source": [
    "## 1. Math \n",
    "\n",
    "Math merupakan salah satu packages yang ada pada python yang memungkinkan untuk melakukan operasi matematis pada python"
   ]
  },
  {
   "cell_type": "code",
   "execution_count": 1,
   "id": "16b72b90",
   "metadata": {},
   "outputs": [],
   "source": [
    "# import packages math\n",
    "import math\n",
    "\n"
   ]
  },
  {
   "cell_type": "code",
   "execution_count": 2,
   "id": "847aa61f",
   "metadata": {},
   "outputs": [
    {
     "name": "stdout",
     "output_type": "stream",
     "text": [
      " pi = 3.141592653589793\n"
     ]
    }
   ],
   "source": [
    "# Example 1 : phi \n",
    "print(\" pi =\", math.pi)"
   ]
  },
  {
   "cell_type": "code",
   "execution_count": null,
   "id": "44a3e8e1",
   "metadata": {},
   "outputs": [],
   "source": [
    "# Example 2: Square Root\n",
    "x = 25\n",
    "sqrt_x = math.sqrt(x)\n",
    "print(\"Square root of\", x, \"is:\", sqrt_x)"
   ]
  },
  {
   "cell_type": "code",
   "execution_count": 3,
   "id": "ee36936d",
   "metadata": {},
   "outputs": [],
   "source": [
    "x = 100\n",
    "sqrt_x = math.sqrt(x)"
   ]
  },
  {
   "cell_type": "code",
   "execution_count": 4,
   "id": "2947bd78",
   "metadata": {},
   "outputs": [
    {
     "data": {
      "text/plain": [
       "10.0"
      ]
     },
     "execution_count": 4,
     "metadata": {},
     "output_type": "execute_result"
    }
   ],
   "source": [
    "sqrt_x"
   ]
  },
  {
   "cell_type": "code",
   "execution_count": 8,
   "id": "88769a43",
   "metadata": {},
   "outputs": [
    {
     "name": "stdout",
     "output_type": "stream",
     "text": [
      "Sin of 45 degrees is: 0.7071067811865475\n",
      "Cos of 45 degrees is: 0.7071067811865476\n"
     ]
    }
   ],
   "source": [
    "\n",
    "# Example 3: Fungsi Trigonometri\n",
    "angle = 45  # in degrees\n",
    "sin_angle = math.sin(math.radians(angle))\n",
    "cos_angle = math.cos(math.radians(angle))\n",
    "print(\"Sin of\", angle, \"degrees is:\", sin_angle)  \n",
    "print(\"Cos of\", angle, \"degrees is:\", cos_angle)  \n",
    "\n",
    "\n"
   ]
  },
  {
   "cell_type": "code",
   "execution_count": 5,
   "id": "d0f75ee6",
   "metadata": {},
   "outputs": [],
   "source": [
    "angle = 90\n",
    "sin_angle = math.sin(math.radians(angle))\n",
    "cos_angle = math.cos(math.radians(angle))"
   ]
  },
  {
   "cell_type": "code",
   "execution_count": 6,
   "id": "ff01f9d0",
   "metadata": {},
   "outputs": [
    {
     "data": {
      "text/plain": [
       "1.0"
      ]
     },
     "execution_count": 6,
     "metadata": {},
     "output_type": "execute_result"
    }
   ],
   "source": [
    "sin_angle"
   ]
  },
  {
   "cell_type": "code",
   "execution_count": 7,
   "id": "db80930b",
   "metadata": {},
   "outputs": [
    {
     "data": {
      "text/plain": [
       "6.123233995736766e-17"
      ]
     },
     "execution_count": 7,
     "metadata": {},
     "output_type": "execute_result"
    }
   ],
   "source": [
    "cos_angle"
   ]
  },
  {
   "cell_type": "code",
   "execution_count": null,
   "id": "2e160261",
   "metadata": {},
   "outputs": [],
   "source": [
    "# Example 4: Logarithm\n",
    "num = 100\n",
    "log_num = math.log10(num)\n",
    "print(\"Logarithm base 10 dari\", num, \"adalah :\", log_num)\n",
    "\n"
   ]
  },
  {
   "cell_type": "code",
   "execution_count": 9,
   "id": "a6aa0618",
   "metadata": {},
   "outputs": [],
   "source": [
    "num=100\n",
    "log_num = math.log10(num)"
   ]
  },
  {
   "cell_type": "code",
   "execution_count": 10,
   "id": "64eabad9",
   "metadata": {},
   "outputs": [
    {
     "data": {
      "text/plain": [
       "2.0"
      ]
     },
     "execution_count": 10,
     "metadata": {},
     "output_type": "execute_result"
    }
   ],
   "source": [
    "log_num"
   ]
  },
  {
   "cell_type": "code",
   "execution_count": null,
   "id": "b3cedec9",
   "metadata": {},
   "outputs": [],
   "source": [
    "# Example 5: Exponentiation\n",
    "base = 2\n",
    "exponent = 5\n",
    "result = math.pow(base, exponent)\n",
    "print(base, \"pangkat\", exponent, \"adalah :\", result) \n",
    "\n"
   ]
  },
  {
   "cell_type": "code",
   "execution_count": 11,
   "id": "e03eda5a",
   "metadata": {},
   "outputs": [],
   "source": [
    "base = 2\n",
    "exponent = 5\n",
    "result = math.pow(base, exponent)"
   ]
  },
  {
   "cell_type": "code",
   "execution_count": 12,
   "id": "e58c1600",
   "metadata": {},
   "outputs": [
    {
     "data": {
      "text/plain": [
       "32.0"
      ]
     },
     "execution_count": 12,
     "metadata": {},
     "output_type": "execute_result"
    }
   ],
   "source": [
    "result"
   ]
  },
  {
   "cell_type": "code",
   "execution_count": 13,
   "id": "781b2555",
   "metadata": {},
   "outputs": [
    {
     "name": "stdout",
     "output_type": "stream",
     "text": [
      "Pembulatan ke atas dari  3.7 adalah : 4\n",
      "Pembulatan ke bawah dari  3.7 adalah : 3\n"
     ]
    }
   ],
   "source": [
    "# Example 6: Pembulatan\n",
    "value = 3.7\n",
    "rounded_value = math.ceil(value)\n",
    "print(\"Pembulatan ke atas dari \", value, \"adalah :\", rounded_value)  \n",
    "rounded_value = math.floor(value)\n",
    "print(\"Pembulatan ke bawah dari \", value, \"adalah :\", rounded_value)  "
   ]
  },
  {
   "cell_type": "markdown",
   "id": "32e4ef01",
   "metadata": {},
   "source": [
    "Contoh diatas merupakan beberapa penggunaan dari packages math yang ada pada python , sejatinya terdapat banyak sekali fungsi fungsi yang dapat dilakukan oleh package math apabila kalian ingin mempelajari lebih lanjut dapat membuka link dokumentasi berikut :\n",
    " https://docs.python.org/3/library/math.html"
   ]
  },
  {
   "cell_type": "markdown",
   "id": "fa8e77f3",
   "metadata": {},
   "source": [
    "## 2. Numpy\n",
    "\n",
    "Numpy juga merupakan packages yang digunakan untuk operasi numerikal, berbeda dengan math yang menyediakan dasar dasar operasi matematika, sedangkan numpy lebih ke arah penggunaan numerikal, salah satu contohnya adalah penggunaan array. Array merupakan salah satu struktur data yang sangat sering kita jumpai ketika melakukan operasi numerikal pada python dan menggunakan algoritma algoritma tertentu seperti linear algebra, generate random number, dll. Pada kesempatan ini kita akan fokus kedalam penggunaan numpy dalam array manipulation"
   ]
  },
  {
   "cell_type": "code",
   "execution_count": 15,
   "id": "d374d939",
   "metadata": {},
   "outputs": [],
   "source": [
    "# import packages numpy\n",
    "import numpy as np "
   ]
  },
  {
   "cell_type": "code",
   "execution_count": 14,
   "id": "424dd5b5",
   "metadata": {},
   "outputs": [
    {
     "ename": "NameError",
     "evalue": "name 'np' is not defined",
     "output_type": "error",
     "traceback": [
      "\u001b[0;31m---------------------------------------------------------------------------\u001b[0m",
      "\u001b[0;31mNameError\u001b[0m                                 Traceback (most recent call last)",
      "Cell \u001b[0;32mIn[14], line 2\u001b[0m\n\u001b[1;32m      1\u001b[0m \u001b[38;5;66;03m#array dengan dimensi 4 x 1\u001b[39;00m\n\u001b[0;32m----> 2\u001b[0m array1 \u001b[38;5;241m=\u001b[39m \u001b[43mnp\u001b[49m\u001b[38;5;241m.\u001b[39marray([\u001b[38;5;241m1\u001b[39m, \u001b[38;5;241m3\u001b[39m, \u001b[38;5;241m5\u001b[39m, \u001b[38;5;241m7\u001b[39m])\n\u001b[1;32m      3\u001b[0m \u001b[38;5;28mprint\u001b[39m(\u001b[38;5;124m'\u001b[39m\u001b[38;5;124marray1 = \u001b[39m\u001b[38;5;124m'\u001b[39m, array1)\n",
      "\u001b[0;31mNameError\u001b[0m: name 'np' is not defined"
     ]
    }
   ],
   "source": [
    "#array dengan dimensi 4 x 1\n",
    "array1 = np.array([1, 3, 5, 7])\n",
    "print('array1 = ', array1)"
   ]
  },
  {
   "cell_type": "code",
   "execution_count": 18,
   "id": "03a4fb30",
   "metadata": {},
   "outputs": [],
   "source": [
    "array = np.array([1, 3, 4, 6])"
   ]
  },
  {
   "cell_type": "code",
   "execution_count": 19,
   "id": "e03f0b8f",
   "metadata": {},
   "outputs": [
    {
     "data": {
      "text/plain": [
       "array([1, 3, 4, 6])"
      ]
     },
     "execution_count": 19,
     "metadata": {},
     "output_type": "execute_result"
    }
   ],
   "source": [
    "array"
   ]
  },
  {
   "cell_type": "code",
   "execution_count": null,
   "id": "ab8ba538",
   "metadata": {},
   "outputs": [],
   "source": [
    "# array dengan dimensi  2 x 3\n",
    "array2=np.array([[1, 2, 3], [4, 5, 6]])\n",
    "print(f\"array2 =\\n {array2}\\n\")"
   ]
  },
  {
   "cell_type": "code",
   "execution_count": 21,
   "id": "ef1455de",
   "metadata": {},
   "outputs": [],
   "source": [
    "array2 = np.array([[1,3,4], [5,5,6]])"
   ]
  },
  {
   "cell_type": "code",
   "execution_count": 22,
   "id": "081a3269",
   "metadata": {},
   "outputs": [
    {
     "data": {
      "text/plain": [
       "array([[1, 3, 4],\n",
       "       [5, 5, 6]])"
      ]
     },
     "execution_count": 22,
     "metadata": {},
     "output_type": "execute_result"
    }
   ],
   "source": [
    "array2"
   ]
  },
  {
   "cell_type": "code",
   "execution_count": 24,
   "id": "97d769ba",
   "metadata": {},
   "outputs": [
    {
     "name": "stdout",
     "output_type": "stream",
     "text": [
      "(4,)\n",
      "(2, 3)\n"
     ]
    }
   ],
   "source": [
    "#melihat ukuran pada array\n",
    "print(array.shape)\n",
    "print(array2.shape)"
   ]
  },
  {
   "cell_type": "code",
   "execution_count": 25,
   "id": "1d1dd127",
   "metadata": {},
   "outputs": [
    {
     "data": {
      "text/plain": [
       "array([0, 1, 2, 3, 4, 5])"
      ]
     },
     "execution_count": 25,
     "metadata": {},
     "output_type": "execute_result"
    }
   ],
   "source": [
    "# mengubah ukuran array dari 6x1 menjadi 2x3\n",
    "array4 = np.array(range(6))\n",
    "array4"
   ]
  },
  {
   "cell_type": "code",
   "execution_count": null,
   "id": "c464fb86",
   "metadata": {},
   "outputs": [],
   "source": [
    "# mengubah ukuran array dari 6x1 menjadi 2x3\n",
    "array4 = np.array(range(6)).reshape((2, 3))\n",
    "print(f\"array 4 =\\n {array4}\\n\")\n"
   ]
  },
  {
   "cell_type": "code",
   "execution_count": 26,
   "id": "7623647f",
   "metadata": {},
   "outputs": [],
   "source": [
    "array4 = np.array(range(6)).reshape(2,3)"
   ]
  },
  {
   "cell_type": "code",
   "execution_count": 27,
   "id": "63a1ee49",
   "metadata": {},
   "outputs": [
    {
     "data": {
      "text/plain": [
       "array([[0, 1, 2],\n",
       "       [3, 4, 5]])"
      ]
     },
     "execution_count": 27,
     "metadata": {},
     "output_type": "execute_result"
    }
   ],
   "source": [
    "array4"
   ]
  },
  {
   "cell_type": "code",
   "execution_count": 28,
   "id": "64e1dfff",
   "metadata": {},
   "outputs": [
    {
     "data": {
      "text/plain": [
       "array([[0, 3],\n",
       "       [1, 4],\n",
       "       [2, 5]])"
      ]
     },
     "execution_count": 28,
     "metadata": {},
     "output_type": "execute_result"
    }
   ],
   "source": [
    "#array transpose\n",
    "array4.transpose()"
   ]
  },
  {
   "cell_type": "code",
   "execution_count": 29,
   "id": "6d07ae68",
   "metadata": {},
   "outputs": [
    {
     "data": {
      "text/plain": [
       "array([1, 2, 5, 3, 4, 5, 7, 8, 9])"
      ]
     },
     "execution_count": 29,
     "metadata": {},
     "output_type": "execute_result"
    }
   ],
   "source": [
    "#menggabungkan beberapa array\n",
    "a = np.array([1,2,5])\n",
    "b = np.array([3,4,5])\n",
    "c = np.array([7,8,9])\n",
    "np.concatenate((a, b, c))"
   ]
  },
  {
   "cell_type": "markdown",
   "id": "ef958537",
   "metadata": {},
   "source": [
    "### Axis in concatenate array\n",
    "Pada numpy array terdapat parameter axis, yang menentukan dimensi dari penggabungan dua buah array atau lebih , axis akan menentukan apakah array akan digabungkan ke arah vertikal atau horizontal"
   ]
  },
  {
   "cell_type": "code",
   "execution_count": 30,
   "id": "aa5adafe",
   "metadata": {},
   "outputs": [],
   "source": [
    "a = np.array([[1, 2], [3, 4]])\n",
    "b = np.array([[5, 6], [7,8]])\n",
    "\n"
   ]
  },
  {
   "cell_type": "code",
   "execution_count": 31,
   "id": "219cdd29",
   "metadata": {},
   "outputs": [
    {
     "name": "stdout",
     "output_type": "stream",
     "text": [
      "[[1 2]\n",
      " [3 4]]\n",
      "[[5 6]\n",
      " [7 8]]\n"
     ]
    }
   ],
   "source": [
    "print(a)\n",
    "print(b)"
   ]
  },
  {
   "cell_type": "code",
   "execution_count": 32,
   "id": "77e4cf46",
   "metadata": {},
   "outputs": [
    {
     "data": {
      "text/plain": [
       "array([[1, 2, 5, 6],\n",
       "       [3, 4, 7, 8]])"
      ]
     },
     "execution_count": 32,
     "metadata": {},
     "output_type": "execute_result"
    }
   ],
   "source": [
    "#axis 1 menggabungkan array secara horizontal \n",
    "np.concatenate((a,b), axis=1)"
   ]
  },
  {
   "cell_type": "code",
   "execution_count": 33,
   "id": "e8f5f42c",
   "metadata": {},
   "outputs": [
    {
     "data": {
      "text/plain": [
       "array([[1, 2],\n",
       "       [3, 4],\n",
       "       [5, 6],\n",
       "       [7, 8]])"
      ]
     },
     "execution_count": 33,
     "metadata": {},
     "output_type": "execute_result"
    }
   ],
   "source": [
    "#axis 0 menggabungkan array secara vertikal\n",
    "np.concatenate((a,b), axis=0)"
   ]
  },
  {
   "cell_type": "markdown",
   "id": "a16c755d",
   "metadata": {},
   "source": [
    "# 2. Pandas\n",
    "\n",
    "Pandas merupakan salah satu package data analysis yang menyediakan data struktur yang termasuk mudah digunakan yaitu series dan data frame. Pandas dibuat untuk membantu kita dalam melakukan manipulasi pada struktur data sehingga akan membantu ketika sedang melakukan proyek data analysis"
   ]
  },
  {
   "cell_type": "markdown",
   "id": "2b4ade63",
   "metadata": {},
   "source": []
  },
  {
   "cell_type": "code",
   "execution_count": 34,
   "id": "a32330a4",
   "metadata": {},
   "outputs": [],
   "source": [
    "# import pandas \n",
    "import pandas as pd\n"
   ]
  },
  {
   "cell_type": "code",
   "execution_count": null,
   "id": "65575909",
   "metadata": {},
   "outputs": [],
   "source": [
    "pip install pandas "
   ]
  },
  {
   "cell_type": "code",
   "execution_count": 35,
   "id": "a7742238",
   "metadata": {},
   "outputs": [],
   "source": [
    "#import pandas\n",
    "import pandas as pd"
   ]
  },
  {
   "cell_type": "markdown",
   "id": "f1d1014a",
   "metadata": {},
   "source": [
    "### **Series**\n",
    "Series adalah array satu dimensi yang dapat menyimpan berbagai tipe data, termasuk tipe data campuran. Label baris dalam Seri disebut indeks. Kita dapat melakukan manipulasi kepada struktur data seperti list, tuple dan dictionaries dengan mengubah menjadi Series"
   ]
  },
  {
   "cell_type": "markdown",
   "id": "f99ba52e",
   "metadata": {},
   "source": []
  },
  {
   "cell_type": "code",
   "execution_count": null,
   "id": "552a40fe",
   "metadata": {},
   "outputs": [],
   "source": [
    "# creating a series from list \n",
    "list = ['a', '2012-02-01', 100, 10.2]\n",
    "s = pd.Series(list)\n",
    "s"
   ]
  },
  {
   "cell_type": "code",
   "execution_count": 36,
   "id": "0da077f7",
   "metadata": {},
   "outputs": [],
   "source": [
    "list = [1, 3, 4, 5]\n",
    "s = pd.Series(list)"
   ]
  },
  {
   "cell_type": "code",
   "execution_count": 37,
   "id": "557204ef",
   "metadata": {},
   "outputs": [
    {
     "data": {
      "text/plain": [
       "0    1\n",
       "1    3\n",
       "2    4\n",
       "3    5\n",
       "dtype: int64"
      ]
     },
     "execution_count": 37,
     "metadata": {},
     "output_type": "execute_result"
    }
   ],
   "source": [
    "s"
   ]
  },
  {
   "cell_type": "markdown",
   "id": "2ace2222",
   "metadata": {},
   "source": [
    "Series merupakan one dimentional array"
   ]
  },
  {
   "cell_type": "code",
   "execution_count": 38,
   "id": "4e422c30",
   "metadata": {},
   "outputs": [
    {
     "name": "stdout",
     "output_type": "stream",
     "text": [
      "<class 'list'>\n",
      "<class 'pandas.core.series.Series'>\n"
     ]
    }
   ],
   "source": [
    "# cek tipe data\n",
    "print(type(list))\n",
    "print(type(s))"
   ]
  },
  {
   "cell_type": "code",
   "execution_count": 39,
   "id": "fd0f5025",
   "metadata": {},
   "outputs": [
    {
     "data": {
      "text/plain": [
       "name                   rian\n",
       "tanggal lahir    2010-09-08\n",
       "nilai                   100\n",
       "predikat                  A\n",
       "dtype: object"
      ]
     },
     "execution_count": 39,
     "metadata": {},
     "output_type": "execute_result"
    }
   ],
   "source": [
    "# converting dict to Series\n",
    "d = {'name' : 'rian', 'tanggal lahir' : '2010-09-08', 'nilai' : 100, 'predikat' : 'A'}\n",
    "ds = pd.Series(d)\n",
    "ds"
   ]
  },
  {
   "cell_type": "markdown",
   "id": "d2c72d04",
   "metadata": {},
   "source": [
    "Pada dictionary terlihat bahwa series akan mengubah labelnya menjadi key yang ada pada dictionary tersebut"
   ]
  },
  {
   "cell_type": "markdown",
   "id": "a3b1ecac",
   "metadata": {},
   "source": [
    "### **DataFrame**\n",
    "Berbeda dengan series data frame merupakan two dimensional label data structure, yang sangat mirip dengan struktur pada excel/spreadsheet dan tabel dan kolom yang ada pada sql, dia tertiri dari baris dan kolom yang dapat menampung berbagai tipe data. Dataframe akan sangat berguna ketika bekerja dengan data yang terstruktur dan berlabel."
   ]
  },
  {
   "cell_type": "code",
   "execution_count": null,
   "id": "534c708c",
   "metadata": {},
   "outputs": [],
   "source": [
    "# Create a DataFrame from a dictionary of lists\n",
    "data = {'Name': ['Alice', 'Bob', 'Charlie'],\n",
    "        'Age': [25, 30, 35],\n",
    "        'City': ['New York', 'London', 'Paris']}\n",
    "df = pd.DataFrame(data)\n",
    "df\n",
    "\n"
   ]
  },
  {
   "cell_type": "code",
   "execution_count": 40,
   "id": "ab7c3a3d",
   "metadata": {},
   "outputs": [],
   "source": [
    "data = {'Name': ['Alice', 'Bob', 'Charlie'],\n",
    "        'Age': [25, 30, 35],\n",
    "        'City': ['New York', 'London', 'Paris']}"
   ]
  },
  {
   "cell_type": "code",
   "execution_count": 41,
   "id": "0fc90684",
   "metadata": {},
   "outputs": [],
   "source": [
    "df = pd.DataFrame(data)"
   ]
  },
  {
   "cell_type": "code",
   "execution_count": 42,
   "id": "9af4349b",
   "metadata": {},
   "outputs": [
    {
     "data": {
      "text/html": [
       "<div>\n",
       "<style scoped>\n",
       "    .dataframe tbody tr th:only-of-type {\n",
       "        vertical-align: middle;\n",
       "    }\n",
       "\n",
       "    .dataframe tbody tr th {\n",
       "        vertical-align: top;\n",
       "    }\n",
       "\n",
       "    .dataframe thead th {\n",
       "        text-align: right;\n",
       "    }\n",
       "</style>\n",
       "<table border=\"1\" class=\"dataframe\">\n",
       "  <thead>\n",
       "    <tr style=\"text-align: right;\">\n",
       "      <th></th>\n",
       "      <th>Name</th>\n",
       "      <th>Age</th>\n",
       "      <th>City</th>\n",
       "    </tr>\n",
       "  </thead>\n",
       "  <tbody>\n",
       "    <tr>\n",
       "      <th>0</th>\n",
       "      <td>Alice</td>\n",
       "      <td>25</td>\n",
       "      <td>New York</td>\n",
       "    </tr>\n",
       "    <tr>\n",
       "      <th>1</th>\n",
       "      <td>Bob</td>\n",
       "      <td>30</td>\n",
       "      <td>London</td>\n",
       "    </tr>\n",
       "    <tr>\n",
       "      <th>2</th>\n",
       "      <td>Charlie</td>\n",
       "      <td>35</td>\n",
       "      <td>Paris</td>\n",
       "    </tr>\n",
       "  </tbody>\n",
       "</table>\n",
       "</div>"
      ],
      "text/plain": [
       "      Name  Age      City\n",
       "0    Alice   25  New York\n",
       "1      Bob   30    London\n",
       "2  Charlie   35     Paris"
      ]
     },
     "execution_count": 42,
     "metadata": {},
     "output_type": "execute_result"
    }
   ],
   "source": [
    "df"
   ]
  },
  {
   "cell_type": "markdown",
   "id": "979c5db8",
   "metadata": {},
   "source": [
    "Data yang terbentuk dari dictionary akan membentuk sebuah dataframe yang terlihat seperti tabel dan kelihatan rapi antara kolom dan barisnya."
   ]
  },
  {
   "cell_type": "code",
   "execution_count": 43,
   "id": "2b5dbdc7",
   "metadata": {},
   "outputs": [
    {
     "data": {
      "text/plain": [
       "pandas.core.frame.DataFrame"
      ]
     },
     "execution_count": 43,
     "metadata": {},
     "output_type": "execute_result"
    }
   ],
   "source": [
    "# cek tipe data\n",
    "type(df)"
   ]
  },
  {
   "cell_type": "code",
   "execution_count": 44,
   "id": "f7be5685",
   "metadata": {},
   "outputs": [
    {
     "data": {
      "text/plain": [
       "0      Alice\n",
       "1        Bob\n",
       "2    Charlie\n",
       "Name: Name, dtype: object"
      ]
     },
     "execution_count": 44,
     "metadata": {},
     "output_type": "execute_result"
    }
   ],
   "source": [
    "# Akses kolom menggunakan index kolom\n",
    "df['Name']"
   ]
  },
  {
   "cell_type": "code",
   "execution_count": 47,
   "id": "309afe6f",
   "metadata": {},
   "outputs": [
    {
     "data": {
      "text/plain": [
       "0    25\n",
       "1    30\n",
       "2    35\n",
       "Name: Age, dtype: int64"
      ]
     },
     "execution_count": 47,
     "metadata": {},
     "output_type": "execute_result"
    }
   ],
   "source": [
    "df['Age']"
   ]
  },
  {
   "cell_type": "code",
   "execution_count": 48,
   "id": "bfb2d9a1",
   "metadata": {},
   "outputs": [
    {
     "data": {
      "text/html": [
       "<div>\n",
       "<style scoped>\n",
       "    .dataframe tbody tr th:only-of-type {\n",
       "        vertical-align: middle;\n",
       "    }\n",
       "\n",
       "    .dataframe tbody tr th {\n",
       "        vertical-align: top;\n",
       "    }\n",
       "\n",
       "    .dataframe thead th {\n",
       "        text-align: right;\n",
       "    }\n",
       "</style>\n",
       "<table border=\"1\" class=\"dataframe\">\n",
       "  <thead>\n",
       "    <tr style=\"text-align: right;\">\n",
       "      <th></th>\n",
       "      <th>Name</th>\n",
       "      <th>Age</th>\n",
       "      <th>City</th>\n",
       "      <th>Jenis Kelamin</th>\n",
       "    </tr>\n",
       "  </thead>\n",
       "  <tbody>\n",
       "    <tr>\n",
       "      <th>0</th>\n",
       "      <td>Alice</td>\n",
       "      <td>25</td>\n",
       "      <td>New York</td>\n",
       "      <td>perempuan</td>\n",
       "    </tr>\n",
       "    <tr>\n",
       "      <th>1</th>\n",
       "      <td>Bob</td>\n",
       "      <td>30</td>\n",
       "      <td>London</td>\n",
       "      <td>laki-laki</td>\n",
       "    </tr>\n",
       "    <tr>\n",
       "      <th>2</th>\n",
       "      <td>Charlie</td>\n",
       "      <td>35</td>\n",
       "      <td>Paris</td>\n",
       "      <td>laki-laki</td>\n",
       "    </tr>\n",
       "  </tbody>\n",
       "</table>\n",
       "</div>"
      ],
      "text/plain": [
       "      Name  Age      City Jenis Kelamin\n",
       "0    Alice   25  New York     perempuan\n",
       "1      Bob   30    London     laki-laki\n",
       "2  Charlie   35     Paris     laki-laki"
      ]
     },
     "execution_count": 48,
     "metadata": {},
     "output_type": "execute_result"
    }
   ],
   "source": [
    "# membuat kolom baru\n",
    "df['Jenis Kelamin'] = ['perempuan','laki-laki', 'laki-laki']\n",
    "df"
   ]
  },
  {
   "cell_type": "code",
   "execution_count": 49,
   "id": "f2520b49",
   "metadata": {},
   "outputs": [
    {
     "data": {
      "text/html": [
       "<div>\n",
       "<style scoped>\n",
       "    .dataframe tbody tr th:only-of-type {\n",
       "        vertical-align: middle;\n",
       "    }\n",
       "\n",
       "    .dataframe tbody tr th {\n",
       "        vertical-align: top;\n",
       "    }\n",
       "\n",
       "    .dataframe thead th {\n",
       "        text-align: right;\n",
       "    }\n",
       "</style>\n",
       "<table border=\"1\" class=\"dataframe\">\n",
       "  <thead>\n",
       "    <tr style=\"text-align: right;\">\n",
       "      <th></th>\n",
       "      <th>Name</th>\n",
       "      <th>Age</th>\n",
       "      <th>City</th>\n",
       "    </tr>\n",
       "  </thead>\n",
       "  <tbody>\n",
       "    <tr>\n",
       "      <th>0</th>\n",
       "      <td>Alice</td>\n",
       "      <td>25</td>\n",
       "      <td>New York</td>\n",
       "    </tr>\n",
       "    <tr>\n",
       "      <th>1</th>\n",
       "      <td>Bob</td>\n",
       "      <td>30</td>\n",
       "      <td>London</td>\n",
       "    </tr>\n",
       "    <tr>\n",
       "      <th>2</th>\n",
       "      <td>Charlie</td>\n",
       "      <td>35</td>\n",
       "      <td>Paris</td>\n",
       "    </tr>\n",
       "  </tbody>\n",
       "</table>\n",
       "</div>"
      ],
      "text/plain": [
       "      Name  Age      City\n",
       "0    Alice   25  New York\n",
       "1      Bob   30    London\n",
       "2  Charlie   35     Paris"
      ]
     },
     "execution_count": 49,
     "metadata": {},
     "output_type": "execute_result"
    }
   ],
   "source": [
    "# menghapus kolom del\n",
    "del df['Jenis Kelamin']\n",
    "df"
   ]
  },
  {
   "cell_type": "markdown",
   "id": "f1798917",
   "metadata": {},
   "source": [
    "kolom baru berhasil terhapus"
   ]
  },
  {
   "cell_type": "markdown",
   "id": "6511635d",
   "metadata": {},
   "source": []
  }
 ],
 "metadata": {
  "kernelspec": {
   "display_name": "Python 3 (ipykernel)",
   "language": "python",
   "name": "python3"
  },
  "language_info": {
   "codemirror_mode": {
    "name": "ipython",
    "version": 3
   },
   "file_extension": ".py",
   "mimetype": "text/x-python",
   "name": "python",
   "nbconvert_exporter": "python",
   "pygments_lexer": "ipython3",
   "version": "3.10.9"
  }
 },
 "nbformat": 4,
 "nbformat_minor": 5
}
