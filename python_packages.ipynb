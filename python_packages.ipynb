{
 "cells": [
  {
   "cell_type": "markdown",
   "id": "465455ba",
   "metadata": {},
   "source": [
    "Terdapat beberapa packages pada python yang sangat berguna ketika melakukan proyek data analysis, seperti python, numpy, math, dan lain-lain, tergantung dengan kebutuhan kita"
   ]
  },
  {
   "cell_type": "markdown",
   "id": "64e36dc8",
   "metadata": {},
   "source": [
    "## 1. Math \n",
    "\n",
    "Math merupakan salah satu packages yang ada pada python yang memungkinkan untuk melakukan operasi matematis pada python"
   ]
  },
  {
   "cell_type": "code",
   "execution_count": 93,
   "id": "16b72b90",
   "metadata": {},
   "outputs": [],
   "source": [
    "# import packages math\n",
    "import math\n",
    "\n"
   ]
  },
  {
   "cell_type": "code",
   "execution_count": 94,
   "id": "847aa61f",
   "metadata": {},
   "outputs": [
    {
     "name": "stdout",
     "output_type": "stream",
     "text": [
      " pi = 3.141592653589793\n"
     ]
    }
   ],
   "source": [
    "# Example 1 : phi \n",
    "print(\" pi =\", math.pi)"
   ]
  },
  {
   "cell_type": "code",
   "execution_count": 95,
   "id": "44a3e8e1",
   "metadata": {},
   "outputs": [
    {
     "name": "stdout",
     "output_type": "stream",
     "text": [
      "Square root of 25 is: 5.0\n"
     ]
    }
   ],
   "source": [
    "# Example 2: Square Root\n",
    "x = 25\n",
    "sqrt_x = math.sqrt(x)\n",
    "print(\"Square root of\", x, \"is:\", sqrt_x)"
   ]
  },
  {
   "cell_type": "code",
   "execution_count": 96,
   "id": "88769a43",
   "metadata": {},
   "outputs": [
    {
     "name": "stdout",
     "output_type": "stream",
     "text": [
      "Sin of 45 degrees is: 0.7071067811865475\n",
      "Cos of 45 degrees is: 0.7071067811865476\n"
     ]
    }
   ],
   "source": [
    "\n",
    "# Example 3: Fungsi Trigonometri\n",
    "angle = 45  # in degrees\n",
    "sin_angle = math.sin(math.radians(angle))\n",
    "cos_angle = math.cos(math.radians(angle))\n",
    "print(\"Sin of\", angle, \"degrees is:\", sin_angle)  \n",
    "print(\"Cos of\", angle, \"degrees is:\", cos_angle)  \n",
    "\n",
    "\n"
   ]
  },
  {
   "cell_type": "code",
   "execution_count": 97,
   "id": "2e160261",
   "metadata": {},
   "outputs": [
    {
     "name": "stdout",
     "output_type": "stream",
     "text": [
      "Logarithm base 10 dari 100 adalah : 2.0\n"
     ]
    }
   ],
   "source": [
    "# Example 4: Logarithm\n",
    "num = 100\n",
    "log_num = math.log10(num)\n",
    "print(\"Logarithm base 10 dari\", num, \"adalah :\", log_num)\n",
    "\n"
   ]
  },
  {
   "cell_type": "code",
   "execution_count": 98,
   "id": "b3cedec9",
   "metadata": {},
   "outputs": [
    {
     "name": "stdout",
     "output_type": "stream",
     "text": [
      "2 pangkat 5 adalah : 32.0\n"
     ]
    }
   ],
   "source": [
    "# Example 5: Exponentiation\n",
    "base = 2\n",
    "exponent = 5\n",
    "result = math.pow(base, exponent)\n",
    "print(base, \"pangkat\", exponent, \"adalah :\", result) \n",
    "\n"
   ]
  },
  {
   "cell_type": "code",
   "execution_count": 99,
   "id": "781b2555",
   "metadata": {},
   "outputs": [
    {
     "name": "stdout",
     "output_type": "stream",
     "text": [
      "Pembulatan ke atas dari  3.7 adalah : 4\n",
      "Pembulatan ke bawah dari  3.7 adalah : 3\n"
     ]
    }
   ],
   "source": [
    "# Example 6: Pembulatan\n",
    "value = 3.7\n",
    "rounded_value = math.ceil(value)\n",
    "print(\"Pembulatan ke atas dari \", value, \"adalah :\", rounded_value)  \n",
    "rounded_value = math.floor(value)\n",
    "print(\"Pembulatan ke bawah dari \", value, \"adalah :\", rounded_value)  "
   ]
  },
  {
   "cell_type": "markdown",
   "id": "32e4ef01",
   "metadata": {},
   "source": [
    "Contoh diatas merupakan beberapa penggunaan dari packages math yang ada pada python , sejatinya terdapat banyak sekali fungsi fungsi yang dapat dilakukan oleh package math apabila kalian ingin mempelajari lebih lanjut dapat membuka link dokumentasi berikut :\n",
    " https://docs.python.org/3/library/math.html"
   ]
  },
  {
   "cell_type": "markdown",
   "id": "fa8e77f3",
   "metadata": {},
   "source": [
    "## 2. Numpy\n",
    "\n",
    "Numpy juga merupakan packages yang digunakan untuk operasi numerikal, berbeda dengan math yang menyediakan dasar dasar operasi matematika, sedangkan numpy lebih ke arah penggunaan numerikal, salah satu contohnya adalah penggunaan array. Array merupakan salah satu struktur data yang sangat sering kita jumpai ketika melakukan operasi numerikal pada python dan menggunakan algoritma algoritma tertentu seperti linear algebra, generate random number, dll. Pada kesempatan ini kita akan fokus kedalam penggunaan numpy dalam array manipulation"
   ]
  },
  {
   "cell_type": "code",
   "execution_count": 100,
   "id": "d374d939",
   "metadata": {},
   "outputs": [],
   "source": [
    "# import packages numpy\n",
    "import numpy as np "
   ]
  },
  {
   "cell_type": "code",
   "execution_count": 101,
   "id": "424dd5b5",
   "metadata": {},
   "outputs": [
    {
     "name": "stdout",
     "output_type": "stream",
     "text": [
      "array1 =  [1 3 5 7]\n"
     ]
    }
   ],
   "source": [
    "#array dengan dimensi 4 x 1\n",
    "array1 = np.array([1, 3, 5, 7])\n",
    "print('array1 = ', array1)"
   ]
  },
  {
   "cell_type": "code",
   "execution_count": 102,
   "id": "ab8ba538",
   "metadata": {},
   "outputs": [
    {
     "name": "stdout",
     "output_type": "stream",
     "text": [
      "array2 =\n",
      " [[1 2 3]\n",
      " [4 5 6]]\n",
      "\n"
     ]
    }
   ],
   "source": [
    "# array dengan dimensi  2 x 3\n",
    "array2=np.array([[1, 2, 3], [4, 5, 6]])\n",
    "print(f\"array2 =\\n {array2}\\n\")"
   ]
  },
  {
   "cell_type": "code",
   "execution_count": 103,
   "id": "97d769ba",
   "metadata": {},
   "outputs": [
    {
     "name": "stdout",
     "output_type": "stream",
     "text": [
      "(4,)\n",
      "(2, 3)\n"
     ]
    }
   ],
   "source": [
    "#melihat ukuran pada array\n",
    "print(array1.shape)\n",
    "print(array2.shape)"
   ]
  },
  {
   "cell_type": "code",
   "execution_count": 104,
   "id": "1d1dd127",
   "metadata": {},
   "outputs": [
    {
     "data": {
      "text/plain": [
       "array([0, 1, 2, 3, 4, 5])"
      ]
     },
     "execution_count": 104,
     "metadata": {},
     "output_type": "execute_result"
    }
   ],
   "source": [
    "# mengubah ukuran array dari 6x1 menjadi 2x3\n",
    "array4 = np.array(range(6))\n",
    "array4"
   ]
  },
  {
   "cell_type": "code",
   "execution_count": 105,
   "id": "c464fb86",
   "metadata": {},
   "outputs": [
    {
     "name": "stdout",
     "output_type": "stream",
     "text": [
      "array 4 =\n",
      " [[0 1 2]\n",
      " [3 4 5]]\n",
      "\n"
     ]
    }
   ],
   "source": [
    "# mengubah ukuran array dari 6x1 menjadi 2x3\n",
    "array4 = np.array(range(6)).reshape((2, 3))\n",
    "print(f\"array 4 =\\n {array4}\\n\")\n"
   ]
  },
  {
   "cell_type": "code",
   "execution_count": 106,
   "id": "64e1dfff",
   "metadata": {},
   "outputs": [
    {
     "data": {
      "text/plain": [
       "array([[0, 3],\n",
       "       [1, 4],\n",
       "       [2, 5]])"
      ]
     },
     "execution_count": 106,
     "metadata": {},
     "output_type": "execute_result"
    }
   ],
   "source": [
    "#array transpose\n",
    "array4.transpose()"
   ]
  },
  {
   "cell_type": "code",
   "execution_count": 107,
   "id": "6d07ae68",
   "metadata": {},
   "outputs": [
    {
     "data": {
      "text/plain": [
       "array([1, 2, 5, 3, 4, 5, 7, 8, 9])"
      ]
     },
     "execution_count": 107,
     "metadata": {},
     "output_type": "execute_result"
    }
   ],
   "source": [
    "#menggabungkan beberapa array\n",
    "a = np.array([1,2,5])\n",
    "b = np.array([3,4,5])\n",
    "c = np.array([7,8,9])\n",
    "np.concatenate((a, b, c))"
   ]
  },
  {
   "cell_type": "markdown",
   "id": "ef958537",
   "metadata": {},
   "source": [
    "### Axis in concatenate array\n",
    "Pada numpy array terdapat parameter axis, yang menentukan dimensi dari penggabungan dua buah array atau lebih , axis akan menentukan apakah array akan digabungkan ke arah vertikal atau horizontal"
   ]
  },
  {
   "cell_type": "code",
   "execution_count": 108,
   "id": "aa5adafe",
   "metadata": {},
   "outputs": [
    {
     "data": {
      "text/plain": [
       "array([[1, 2],\n",
       "       [3, 4],\n",
       "       [5, 6],\n",
       "       [7, 8]])"
      ]
     },
     "execution_count": 108,
     "metadata": {},
     "output_type": "execute_result"
    }
   ],
   "source": [
    "a = np.array([[1, 2], [3, 4]])\n",
    "b = np.array([[5, 6], [7,8]])\n",
    "np.concatenate((a,b))\n"
   ]
  },
  {
   "cell_type": "code",
   "execution_count": 109,
   "id": "77e4cf46",
   "metadata": {},
   "outputs": [
    {
     "data": {
      "text/plain": [
       "array([[1, 2, 5, 6],\n",
       "       [3, 4, 7, 8]])"
      ]
     },
     "execution_count": 109,
     "metadata": {},
     "output_type": "execute_result"
    }
   ],
   "source": [
    "#axis 1 menggabungkan array secara horizontal \n",
    "np.concatenate((a,b), axis=1)"
   ]
  },
  {
   "cell_type": "code",
   "execution_count": 110,
   "id": "e8f5f42c",
   "metadata": {},
   "outputs": [
    {
     "data": {
      "text/plain": [
       "array([[1, 2],\n",
       "       [3, 4],\n",
       "       [5, 6],\n",
       "       [7, 8]])"
      ]
     },
     "execution_count": 110,
     "metadata": {},
     "output_type": "execute_result"
    }
   ],
   "source": [
    "#axis 0 menggabungkan array secara vertikal\n",
    "np.concatenate((a,b), axis=0)"
   ]
  },
  {
   "cell_type": "markdown",
   "id": "a16c755d",
   "metadata": {},
   "source": [
    "# 2. Pandas\n",
    "\n",
    "Pandas merupakan salah satu package data analysis yang menyediakan data struktur yang termasuk mudah digunakan yaitu series dan data frame. Pandas dibuat untuk membantu kita dalam melakukan manipulasi pada struktur data sehingga akan membantu ketika sedang melakukan proyek data analysis"
   ]
  },
  {
   "cell_type": "markdown",
   "id": "2b4ade63",
   "metadata": {},
   "source": []
  },
  {
   "cell_type": "code",
   "execution_count": 111,
   "id": "a32330a4",
   "metadata": {},
   "outputs": [],
   "source": [
    "# import pandas \n",
    "import pandas as pd\n"
   ]
  },
  {
   "cell_type": "code",
   "execution_count": 112,
   "id": "65575909",
   "metadata": {},
   "outputs": [
    {
     "name": "stdout",
     "output_type": "stream",
     "text": [
      "Requirement already satisfied: pandas in /Library/Frameworks/Python.framework/Versions/3.11/lib/python3.11/site-packages (2.0.3)\n",
      "Requirement already satisfied: python-dateutil>=2.8.2 in /Library/Frameworks/Python.framework/Versions/3.11/lib/python3.11/site-packages (from pandas) (2.8.2)\n",
      "Requirement already satisfied: pytz>=2020.1 in /Library/Frameworks/Python.framework/Versions/3.11/lib/python3.11/site-packages (from pandas) (2023.3)\n",
      "Requirement already satisfied: tzdata>=2022.1 in /Library/Frameworks/Python.framework/Versions/3.11/lib/python3.11/site-packages (from pandas) (2023.3)\n",
      "Requirement already satisfied: numpy>=1.21.0 in /Library/Frameworks/Python.framework/Versions/3.11/lib/python3.11/site-packages (from pandas) (1.25.0)\n",
      "Requirement already satisfied: six>=1.5 in /Library/Frameworks/Python.framework/Versions/3.11/lib/python3.11/site-packages (from python-dateutil>=2.8.2->pandas) (1.16.0)\n",
      "\n",
      "\u001b[1m[\u001b[0m\u001b[34;49mnotice\u001b[0m\u001b[1;39;49m]\u001b[0m\u001b[39;49m A new release of pip is available: \u001b[0m\u001b[31;49m23.1.2\u001b[0m\u001b[39;49m -> \u001b[0m\u001b[32;49m23.2.1\u001b[0m\n",
      "\u001b[1m[\u001b[0m\u001b[34;49mnotice\u001b[0m\u001b[1;39;49m]\u001b[0m\u001b[39;49m To update, run: \u001b[0m\u001b[32;49mpython3 -m pip install --upgrade pip\u001b[0m\n",
      "Note: you may need to restart the kernel to use updated packages.\n"
     ]
    }
   ],
   "source": [
    "pip install pandas "
   ]
  },
  {
   "cell_type": "code",
   "execution_count": 113,
   "id": "a7742238",
   "metadata": {},
   "outputs": [],
   "source": [
    "#import pandas\n",
    "import pandas as pd"
   ]
  },
  {
   "cell_type": "markdown",
   "id": "f1d1014a",
   "metadata": {},
   "source": [
    "### **Series**\n",
    "Series adalah array satu dimensi yang dapat menyimpan berbagai tipe data, termasuk tipe data campuran. Label baris dalam Seri disebut indeks. Kita dapat melakukan manipulasi kepada struktur data seperti list, tuple dan dictionaries dengan mengubah menjadi Series"
   ]
  },
  {
   "cell_type": "markdown",
   "id": "f99ba52e",
   "metadata": {},
   "source": []
  },
  {
   "cell_type": "code",
   "execution_count": 114,
   "id": "552a40fe",
   "metadata": {},
   "outputs": [
    {
     "data": {
      "text/plain": [
       "0             a\n",
       "1    2012-02-01\n",
       "2           100\n",
       "3          10.2\n",
       "dtype: object"
      ]
     },
     "execution_count": 114,
     "metadata": {},
     "output_type": "execute_result"
    }
   ],
   "source": [
    "# creating a series from list \n",
    "list = ['a', '2012-02-01', 100, 10.2]\n",
    "s = pd.Series(list)\n",
    "s"
   ]
  },
  {
   "cell_type": "markdown",
   "id": "2ace2222",
   "metadata": {},
   "source": [
    "Series merupakan one dimentional array"
   ]
  },
  {
   "cell_type": "code",
   "execution_count": 115,
   "id": "4e422c30",
   "metadata": {},
   "outputs": [
    {
     "name": "stdout",
     "output_type": "stream",
     "text": [
      "<class 'list'>\n",
      "<class 'pandas.core.series.Series'>\n"
     ]
    }
   ],
   "source": [
    "# cek tipe data\n",
    "print(type(list))\n",
    "print(type(s))"
   ]
  },
  {
   "cell_type": "code",
   "execution_count": 116,
   "id": "fd0f5025",
   "metadata": {},
   "outputs": [
    {
     "data": {
      "text/plain": [
       "name                   rian\n",
       "tanggal lahir    2010-09-08\n",
       "nilai                   100\n",
       "predikat                  A\n",
       "dtype: object"
      ]
     },
     "execution_count": 116,
     "metadata": {},
     "output_type": "execute_result"
    }
   ],
   "source": [
    "# converting dict to Series\n",
    "d = {'name' : 'rian', 'tanggal lahir' : '2010-09-08', 'nilai' : 100, 'predikat' : 'A'}\n",
    "ds = pd.Series(d)\n",
    "ds"
   ]
  },
  {
   "cell_type": "markdown",
   "id": "d2c72d04",
   "metadata": {},
   "source": [
    "Pada dictionary terlihat bahwa series akan mengubah labelnya menjadi key yang ada pada dictionary tersebut"
   ]
  },
  {
   "cell_type": "markdown",
   "id": "a3b1ecac",
   "metadata": {},
   "source": [
    "### **DataFrame**\n",
    "Berbeda dengan series data frame merupakan two dimensional label data structure, yang sangat mirip dengan struktur pada excel/spreadsheet dan tabel dan kolom yang ada pada sql, dia tertiri dari baris dan kolom yang dapat menampung berbagai tipe data. Dataframe akan sangat berguna ketika bekerja dengan data yang terstruktur dan berlabel."
   ]
  },
  {
   "cell_type": "code",
   "execution_count": 117,
   "id": "534c708c",
   "metadata": {},
   "outputs": [
    {
     "data": {
      "text/html": [
       "<div>\n",
       "<style scoped>\n",
       "    .dataframe tbody tr th:only-of-type {\n",
       "        vertical-align: middle;\n",
       "    }\n",
       "\n",
       "    .dataframe tbody tr th {\n",
       "        vertical-align: top;\n",
       "    }\n",
       "\n",
       "    .dataframe thead th {\n",
       "        text-align: right;\n",
       "    }\n",
       "</style>\n",
       "<table border=\"1\" class=\"dataframe\">\n",
       "  <thead>\n",
       "    <tr style=\"text-align: right;\">\n",
       "      <th></th>\n",
       "      <th>Name</th>\n",
       "      <th>Age</th>\n",
       "      <th>City</th>\n",
       "    </tr>\n",
       "  </thead>\n",
       "  <tbody>\n",
       "    <tr>\n",
       "      <th>0</th>\n",
       "      <td>Alice</td>\n",
       "      <td>25</td>\n",
       "      <td>New York</td>\n",
       "    </tr>\n",
       "    <tr>\n",
       "      <th>1</th>\n",
       "      <td>Bob</td>\n",
       "      <td>30</td>\n",
       "      <td>London</td>\n",
       "    </tr>\n",
       "    <tr>\n",
       "      <th>2</th>\n",
       "      <td>Charlie</td>\n",
       "      <td>35</td>\n",
       "      <td>Paris</td>\n",
       "    </tr>\n",
       "  </tbody>\n",
       "</table>\n",
       "</div>"
      ],
      "text/plain": [
       "      Name  Age      City\n",
       "0    Alice   25  New York\n",
       "1      Bob   30    London\n",
       "2  Charlie   35     Paris"
      ]
     },
     "execution_count": 117,
     "metadata": {},
     "output_type": "execute_result"
    }
   ],
   "source": [
    "# Create a DataFrame from a dictionary of lists\n",
    "data = {'Name': ['Alice', 'Bob', 'Charlie'],\n",
    "        'Age': [25, 30, 35],\n",
    "        'City': ['New York', 'London', 'Paris']}\n",
    "df = pd.DataFrame(data)\n",
    "df\n",
    "\n"
   ]
  },
  {
   "cell_type": "markdown",
   "id": "979c5db8",
   "metadata": {},
   "source": [
    "Data yang terbentuk dari dictionary akan membentuk sebuah dataframe yang terlihat seperti tabel dan kelihatan rapi antara kolom dan barisnya."
   ]
  },
  {
   "cell_type": "code",
   "execution_count": 118,
   "id": "2b5dbdc7",
   "metadata": {},
   "outputs": [
    {
     "data": {
      "text/plain": [
       "pandas.core.frame.DataFrame"
      ]
     },
     "execution_count": 118,
     "metadata": {},
     "output_type": "execute_result"
    }
   ],
   "source": [
    "# cek tipe data\n",
    "type(df)"
   ]
  },
  {
   "cell_type": "code",
   "execution_count": 119,
   "id": "f7be5685",
   "metadata": {},
   "outputs": [
    {
     "data": {
      "text/plain": [
       "0      Alice\n",
       "1        Bob\n",
       "2    Charlie\n",
       "Name: Name, dtype: object"
      ]
     },
     "execution_count": 119,
     "metadata": {},
     "output_type": "execute_result"
    }
   ],
   "source": [
    "# Akses kolom menggunakan index kolom\n",
    "df['Name']"
   ]
  },
  {
   "cell_type": "code",
   "execution_count": 120,
   "id": "bfb2d9a1",
   "metadata": {},
   "outputs": [
    {
     "data": {
      "text/html": [
       "<div>\n",
       "<style scoped>\n",
       "    .dataframe tbody tr th:only-of-type {\n",
       "        vertical-align: middle;\n",
       "    }\n",
       "\n",
       "    .dataframe tbody tr th {\n",
       "        vertical-align: top;\n",
       "    }\n",
       "\n",
       "    .dataframe thead th {\n",
       "        text-align: right;\n",
       "    }\n",
       "</style>\n",
       "<table border=\"1\" class=\"dataframe\">\n",
       "  <thead>\n",
       "    <tr style=\"text-align: right;\">\n",
       "      <th></th>\n",
       "      <th>Name</th>\n",
       "      <th>Age</th>\n",
       "      <th>City</th>\n",
       "      <th>Jenis Kelamin</th>\n",
       "    </tr>\n",
       "  </thead>\n",
       "  <tbody>\n",
       "    <tr>\n",
       "      <th>0</th>\n",
       "      <td>Alice</td>\n",
       "      <td>25</td>\n",
       "      <td>New York</td>\n",
       "      <td>perempuan</td>\n",
       "    </tr>\n",
       "    <tr>\n",
       "      <th>1</th>\n",
       "      <td>Bob</td>\n",
       "      <td>30</td>\n",
       "      <td>London</td>\n",
       "      <td>laki-laki</td>\n",
       "    </tr>\n",
       "    <tr>\n",
       "      <th>2</th>\n",
       "      <td>Charlie</td>\n",
       "      <td>35</td>\n",
       "      <td>Paris</td>\n",
       "      <td>laki-laki</td>\n",
       "    </tr>\n",
       "  </tbody>\n",
       "</table>\n",
       "</div>"
      ],
      "text/plain": [
       "      Name  Age      City Jenis Kelamin\n",
       "0    Alice   25  New York     perempuan\n",
       "1      Bob   30    London     laki-laki\n",
       "2  Charlie   35     Paris     laki-laki"
      ]
     },
     "execution_count": 120,
     "metadata": {},
     "output_type": "execute_result"
    }
   ],
   "source": [
    "# membuat kolom baru\n",
    "df['Jenis Kelamin'] = ['perempuan','laki-laki', 'laki-laki']\n",
    "df"
   ]
  },
  {
   "cell_type": "code",
   "execution_count": 121,
   "id": "f2520b49",
   "metadata": {},
   "outputs": [
    {
     "data": {
      "text/html": [
       "<div>\n",
       "<style scoped>\n",
       "    .dataframe tbody tr th:only-of-type {\n",
       "        vertical-align: middle;\n",
       "    }\n",
       "\n",
       "    .dataframe tbody tr th {\n",
       "        vertical-align: top;\n",
       "    }\n",
       "\n",
       "    .dataframe thead th {\n",
       "        text-align: right;\n",
       "    }\n",
       "</style>\n",
       "<table border=\"1\" class=\"dataframe\">\n",
       "  <thead>\n",
       "    <tr style=\"text-align: right;\">\n",
       "      <th></th>\n",
       "      <th>Name</th>\n",
       "      <th>Age</th>\n",
       "      <th>City</th>\n",
       "    </tr>\n",
       "  </thead>\n",
       "  <tbody>\n",
       "    <tr>\n",
       "      <th>0</th>\n",
       "      <td>Alice</td>\n",
       "      <td>25</td>\n",
       "      <td>New York</td>\n",
       "    </tr>\n",
       "    <tr>\n",
       "      <th>1</th>\n",
       "      <td>Bob</td>\n",
       "      <td>30</td>\n",
       "      <td>London</td>\n",
       "    </tr>\n",
       "    <tr>\n",
       "      <th>2</th>\n",
       "      <td>Charlie</td>\n",
       "      <td>35</td>\n",
       "      <td>Paris</td>\n",
       "    </tr>\n",
       "  </tbody>\n",
       "</table>\n",
       "</div>"
      ],
      "text/plain": [
       "      Name  Age      City\n",
       "0    Alice   25  New York\n",
       "1      Bob   30    London\n",
       "2  Charlie   35     Paris"
      ]
     },
     "execution_count": 121,
     "metadata": {},
     "output_type": "execute_result"
    }
   ],
   "source": [
    "# menghapus kolom del\n",
    "del df['Jenis Kelamin']\n",
    "df"
   ]
  },
  {
   "cell_type": "markdown",
   "id": "f1798917",
   "metadata": {},
   "source": [
    "kolom baru berhasil terhapus"
   ]
  },
  {
   "cell_type": "markdown",
   "id": "6511635d",
   "metadata": {},
   "source": []
  }
 ],
 "metadata": {
  "kernelspec": {
   "display_name": "Python 3",
   "language": "python",
   "name": "python3"
  },
  "language_info": {
   "codemirror_mode": {
    "name": "ipython",
    "version": 3
   },
   "file_extension": ".py",
   "mimetype": "text/x-python",
   "name": "python",
   "nbconvert_exporter": "python",
   "pygments_lexer": "ipython3",
   "version": "3.11.3"
  }
 },
 "nbformat": 4,
 "nbformat_minor": 5
}
