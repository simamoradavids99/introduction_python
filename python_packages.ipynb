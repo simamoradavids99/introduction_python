{
 "cells": [
  {
   "cell_type": "markdown",
   "id": "465455ba",
   "metadata": {},
   "source": [
    "Terdapat beberapa packages pada python yang sangat berguna ketika melakukan proyek data analysis, seperti python, numpy, math, dan lain-lain, tergantung dengan kebutuhan kita"
   ]
  },
  {
   "cell_type": "markdown",
   "id": "64e36dc8",
   "metadata": {},
   "source": [
    "## 1. Math \n",
    "\n",
    "Math merupakan salah satu packages yang ada pada python yang memungkinkan untuk melakukan operasi matematis pada python"
   ]
  },
  {
   "cell_type": "code",
   "execution_count": 2,
   "id": "16b72b90",
   "metadata": {},
   "outputs": [
    {
     "name": "stdout",
     "output_type": "stream",
     "text": [
      " pi = 3.141592653589793\n"
     ]
    }
   ],
   "source": [
    "# import packages math\n",
    "import math\n",
    "\n"
   ]
  },
  {
   "cell_type": "code",
   "execution_count": 3,
   "id": "847aa61f",
   "metadata": {},
   "outputs": [
    {
     "name": "stdout",
     "output_type": "stream",
     "text": [
      " pi = 3.141592653589793\n"
     ]
    }
   ],
   "source": [
    "# Example 1 : phi \n",
    "print(\" pi =\", math.pi)"
   ]
  },
  {
   "cell_type": "code",
   "execution_count": 4,
   "id": "44a3e8e1",
   "metadata": {},
   "outputs": [
    {
     "name": "stdout",
     "output_type": "stream",
     "text": [
      "Square root of 25 is: 5.0\n"
     ]
    }
   ],
   "source": [
    "# Example 2: Square Root\n",
    "x = 25\n",
    "sqrt_x = math.sqrt(x)\n",
    "print(\"Square root of\", x, \"is:\", sqrt_x)"
   ]
  },
  {
   "cell_type": "code",
   "execution_count": 9,
   "id": "88769a43",
   "metadata": {},
   "outputs": [
    {
     "name": "stdout",
     "output_type": "stream",
     "text": [
      "Sin of 45 degrees is: 0.7071067811865475\n",
      "Cos of 45 degrees is: 0.7071067811865476\n"
     ]
    }
   ],
   "source": [
    "\n",
    "# Example 3: Fungsi Trigonometri\n",
    "angle = 45  # in degrees\n",
    "sin_angle = math.sin(math.radians(angle))\n",
    "cos_angle = math.cos(math.radians(angle))\n",
    "print(\"Sin of\", angle, \"degrees is:\", sin_angle)  \n",
    "print(\"Cos of\", angle, \"degrees is:\", cos_angle)  \n",
    "\n",
    "\n"
   ]
  },
  {
   "cell_type": "code",
   "execution_count": 10,
   "id": "2e160261",
   "metadata": {},
   "outputs": [
    {
     "name": "stdout",
     "output_type": "stream",
     "text": [
      "Logarithm base 10 dari 100 adalah : 2.0\n"
     ]
    }
   ],
   "source": [
    "# Example 4: Logarithm\n",
    "num = 100\n",
    "log_num = math.log10(num)\n",
    "print(\"Logarithm base 10 dari\", num, \"adalah :\", log_num)\n",
    "\n"
   ]
  },
  {
   "cell_type": "code",
   "execution_count": 12,
   "id": "b3cedec9",
   "metadata": {},
   "outputs": [
    {
     "name": "stdout",
     "output_type": "stream",
     "text": [
      "2 pangkat 5 adalah : 32.0\n"
     ]
    }
   ],
   "source": [
    "# Example 5: Exponentiation\n",
    "base = 2\n",
    "exponent = 5\n",
    "result = math.pow(base, exponent)\n",
    "print(base, \"pangkat\", exponent, \"adalah :\", result) \n",
    "\n"
   ]
  },
  {
   "cell_type": "code",
   "execution_count": 13,
   "id": "781b2555",
   "metadata": {},
   "outputs": [
    {
     "name": "stdout",
     "output_type": "stream",
     "text": [
      "Pembulatan ke atas dari  3.7 adalah : 4\n",
      "Pembulatan ke bawah dari  3.7 adalah : 3\n"
     ]
    }
   ],
   "source": [
    "# Example 6: Pembulatan\n",
    "value = 3.7\n",
    "rounded_value = math.ceil(value)\n",
    "print(\"Pembulatan ke atas dari \", value, \"adalah :\", rounded_value)  \n",
    "rounded_value = math.floor(value)\n",
    "print(\"Pembulatan ke bawah dari \", value, \"adalah :\", rounded_value)  "
   ]
  },
  {
   "cell_type": "markdown",
   "id": "32e4ef01",
   "metadata": {},
   "source": [
    "Contoh diatas merupakan beberapa penggunaan dari packages math yang ada pada python , sejatinya terdapat banyak sekali fungsi fungsi yang dapat dilakukan oleh package math apabila kalian ingin mempelajari lebih lanjut dapat membuka link dokumentasi berikut :\n",
    " https://docs.python.org/3/library/math.html"
   ]
  },
  {
   "cell_type": "markdown",
   "id": "fa8e77f3",
   "metadata": {},
   "source": [
    "## 2. Numpy\n",
    "\n",
    "Numpy juga merupakan packages yang digunakan untuk operasi numerikal, berbeda dengan math yang menyediakan dasar dasar operasi matematika, sedangkan numpy lebih ke arah penggunaan numerikal, salah satu contohnya adalah penggunaan array. Array merupakan salah satu struktur data yang sangat sering kita jumpai ketika melakukan operasi numerikal pada python dan menggunakan algoritma algoritma tertentu seperti linear algebra, generate random number, dll. Pada kesempatan ini kita akan fokus kedalam penggunaan numpy dalam array manipulation"
   ]
  },
  {
   "cell_type": "code",
   "execution_count": 14,
   "id": "d374d939",
   "metadata": {},
   "outputs": [],
   "source": [
    "# import packages numpy\n",
    "import numpy as np "
   ]
  },
  {
   "cell_type": "code",
   "execution_count": 23,
   "id": "424dd5b5",
   "metadata": {},
   "outputs": [
    {
     "name": "stdout",
     "output_type": "stream",
     "text": [
      "array1 =  [1 3 5 7]\n"
     ]
    }
   ],
   "source": [
    "#array dengan dimensi 4 x 1\n",
    "array1 = np.array([1, 3, 5, 7])\n",
    "print('array1 = ', array1)"
   ]
  },
  {
   "cell_type": "code",
   "execution_count": 24,
   "id": "ab8ba538",
   "metadata": {},
   "outputs": [
    {
     "name": "stdout",
     "output_type": "stream",
     "text": [
      "array2 =\n",
      " [[1 2 3]\n",
      " [4 5 6]]\n",
      "\n"
     ]
    }
   ],
   "source": [
    "# array dengan dimensi  2 x 3\n",
    "array2=np.array([[1, 2, 3], [4, 5, 6]])\n",
    "print(f\"array2 =\\n {array2}\\n\")"
   ]
  },
  {
   "cell_type": "code",
   "execution_count": 26,
   "id": "97d769ba",
   "metadata": {},
   "outputs": [
    {
     "name": "stdout",
     "output_type": "stream",
     "text": [
      "(4,)\n",
      "(2, 3)\n"
     ]
    }
   ],
   "source": [
    "#melihat ukuran pada array\n",
    "print(array1.shape)\n",
    "print(array2.shape)"
   ]
  },
  {
   "cell_type": "code",
   "execution_count": null,
   "id": "1d1dd127",
   "metadata": {},
   "outputs": [],
   "source": []
  }
 ],
 "metadata": {
  "kernelspec": {
   "display_name": "Python 3",
   "language": "python",
   "name": "python3"
  },
  "language_info": {
   "codemirror_mode": {
    "name": "ipython",
    "version": 3
   },
   "file_extension": ".py",
   "mimetype": "text/x-python",
   "name": "python",
   "nbconvert_exporter": "python",
   "pygments_lexer": "ipython3",
   "version": "3.11.3"
  }
 },
 "nbformat": 4,
 "nbformat_minor": 5
}
