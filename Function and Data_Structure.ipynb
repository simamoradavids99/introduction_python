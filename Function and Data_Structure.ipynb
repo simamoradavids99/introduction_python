{
  "cells": [
    {
      "cell_type": "markdown",
      "metadata": {
        "id": "-lz6K0tUuQaL"
      },
      "source": [
        "##1. Pengertian Function\n",
        "Function merupakan sebuah blok kode yang berisikan instruksi untuk dieksekusi. Fungsi bertujuan agar kode yang kita gunakan bisa reusable, dan tidak perlu membuat kode yang sifatnya berulang-ulang"
      ]
    },
    {
      "cell_type": "markdown",
      "metadata": {
        "id": "qH9wO3EOvge-"
      },
      "source": [
        "##2. Function Pada Python\n",
        "1. Untuk membuat function pada python diawalai dengan def kemudian nama function lalu diakhiri dengan tutup kurung '()'.\n",
        "2. Function memiliki parameter yang akan disisipkan didalam tutup kurung tersebut, yang digunakan ketika menjalan instruksi yang terdapat dalam fungsi tersebut\n",
        "3. Function secara optional memiliki return value."
      ]
    },
    {
      "cell_type": "code",
      "execution_count": 20,
      "metadata": {
        "id": "76E-I1YcvWC7"
      },
      "outputs": [],
      "source": [
        "## contoh fungsi\n",
        "def greet():\n",
        "  print(\"Hello\")"
      ]
    },
    {
      "cell_type": "markdown",
      "metadata": {
        "id": "usOWy1olwF6i"
      },
      "source": [
        "Pada kode diatas kita telah membuat fungsi greet yang akan melakukan print Hello"
      ]
    },
    {
      "cell_type": "code",
      "execution_count": 21,
      "metadata": {
        "colab": {
          "base_uri": "https://localhost:8080/"
        },
        "id": "xmTL2gRAwBjA",
        "outputId": "7d2f07ae-c97e-4fcb-ea3b-22a7301507b6"
      },
      "outputs": [
        {
          "name": "stdout",
          "output_type": "stream",
          "text": [
            "Hello\n"
          ]
        }
      ],
      "source": [
        "## cara memanggil fungsi\n",
        "greet()"
      ]
    },
    {
      "cell_type": "markdown",
      "metadata": {
        "id": "_Ec5tGhjwmVi"
      },
      "source": [
        "Tentu saja ketika fungsi dibuat maka harus perlu dipanggil ketika kita ingin gunakan, caranya adalah dengan langsung memanggil ke arah nama fungsinya"
      ]
    },
    {
      "cell_type": "code",
      "execution_count": 22,
      "metadata": {
        "id": "tJ-KsrAQwkXM"
      },
      "outputs": [],
      "source": [
        "# membuat fungsi dengan parameter\n",
        "def greeting(name): # fungsi dengan 1 parameter\n",
        "  print('Hello', name)"
      ]
    },
    {
      "cell_type": "code",
      "execution_count": 23,
      "metadata": {
        "colab": {
          "base_uri": "https://localhost:8080/"
        },
        "id": "8nDKnWAJwzlj",
        "outputId": "fc858f95-f6d3-4beb-86c2-5d709891d07c"
      },
      "outputs": [
        {
          "name": "stdout",
          "output_type": "stream",
          "text": [
            "Hello Rio\n"
          ]
        }
      ],
      "source": [
        "greeting('Rio')"
      ]
    },
    {
      "cell_type": "code",
      "execution_count": 24,
      "metadata": {
        "colab": {
          "base_uri": "https://localhost:8080/"
        },
        "id": "FT2wtammw2oj",
        "outputId": "0889b187-0f7d-4e64-907d-290c5328b9f2"
      },
      "outputs": [
        {
          "name": "stdout",
          "output_type": "stream",
          "text": [
            "Hello Rio Alexander\n"
          ]
        }
      ],
      "source": [
        "def greeting(name, last_name):\n",
        "  print('Hello', name, last_name)# fungsi dengan 2 parameter\n",
        "\n",
        "greeting ('Rio','Alexander')"
      ]
    },
    {
      "cell_type": "markdown",
      "metadata": {
        "id": "FHrPvwW6zj_u"
      },
      "source": [
        "Ketika kita mendefine sebuah fungsi dengan 2 parameter, ketika kita ingin memanggil fungsi tersebut maka kita harus mengisi 2 parameter tersebut, kalau tidak diisi akan menimbulkan error"
      ]
    },
    {
      "cell_type": "code",
      "execution_count": 25,
      "metadata": {
        "colab": {
          "base_uri": "https://localhost:8080/",
          "height": 166
        },
        "id": "iV4lkcXMzfeV",
        "outputId": "b789ec9e-dd56-4a39-8220-ecd72d232c59"
      },
      "outputs": [],
      "source": [
        "#greeting('Rio')"
      ]
    },
    {
      "cell_type": "markdown",
      "metadata": {
        "id": "kdw4m3Kn1IWJ"
      },
      "source": [
        "Pada potongan kode diatas dikatakan bahwa argument last_name diperlukan untuk memanggil fungsi , sehingga kode tersebut error<br>\n",
        "Lalu bagaimana jika kita tidak tahu pasti jumlah parameter yang kita gunakan namun kita perlu untuk memasukkan parameter kedalam fungsi kita? Jawabannya adalah dengan menggunakan arbitary(*)"
      ]
    },
    {
      "cell_type": "code",
      "execution_count": 26,
      "metadata": {
        "id": "LjFI9i330Q0D"
      },
      "outputs": [],
      "source": [
        "def biodata(*args):\n",
        "  for i in args:\n",
        "    print(i)"
      ]
    },
    {
      "cell_type": "code",
      "execution_count": 27,
      "metadata": {
        "colab": {
          "base_uri": "https://localhost:8080/"
        },
        "id": "zMzFCgOE-Lyp",
        "outputId": "eb570586-6d40-4173-c666-c0451d896d75"
      },
      "outputs": [
        {
          "name": "stdout",
          "output_type": "stream",
          "text": [
            "nama\n",
            "prodi\n",
            "fakultas\n"
          ]
        }
      ],
      "source": [
        "biodata('nama', 'prodi', 'fakultas')"
      ]
    },
    {
      "cell_type": "code",
      "execution_count": 28,
      "metadata": {
        "colab": {
          "base_uri": "https://localhost:8080/"
        },
        "id": "6uV4W3AR-TJQ",
        "outputId": "39d6a49c-4215-45e3-f4a8-ed2f9fe541b7"
      },
      "outputs": [
        {
          "name": "stdout",
          "output_type": "stream",
          "text": [
            "nama\n",
            "prodi\n",
            "fakultas\n",
            "umur\n"
          ]
        }
      ],
      "source": [
        "biodata('nama', 'prodi', 'fakultas', 'umur')"
      ]
    },
    {
      "cell_type": "code",
      "execution_count": 29,
      "metadata": {
        "id": "YboS53RP-ZQA"
      },
      "outputs": [],
      "source": [
        "##double arbitary digunakan apabila kita ingin menggunakan parameter yang menampung key dan value pada fungsi kita\n",
        "def biodataAsli(**kwargs):\n",
        "  for key, value in kwargs.items():\n",
        "    print(f\"{key} : {value}\")"
      ]
    },
    {
      "cell_type": "code",
      "execution_count": 30,
      "metadata": {
        "colab": {
          "base_uri": "https://localhost:8080/"
        },
        "id": "3LapAqVI-pz-",
        "outputId": "43d2494d-b5e9-465a-8a9e-041b79c97f45"
      },
      "outputs": [
        {
          "name": "stdout",
          "output_type": "stream",
          "text": [
            "nama : rio\n",
            "prodi : Sistem Informasi\n",
            "fakultas : computer science\n"
          ]
        }
      ],
      "source": [
        "biodataAsli(nama=\"rio\", prodi =\"Sistem Informasi\", fakultas =\"computer science\")"
      ]
    },
    {
      "cell_type": "code",
      "execution_count": 31,
      "metadata": {
        "id": "Ozv4dkBWAXU7"
      },
      "outputs": [],
      "source": [
        "# contoh kasus membuat fungsi luas persegi panjang\n",
        "# code.."
      ]
    },
    {
      "cell_type": "markdown",
      "metadata": {
        "id": "6stsS6VaAT3i"
      },
      "source": [
        "### 3. Python Data Structure"
      ]
    },
    {
      "cell_type": "markdown",
      "metadata": {
        "id": "7-wnZ_FAul_o"
      },
      "source": [
        "#### 3.1 List\n",
        "List merupakan sekumpulan objek yang dapat diedit atau di manipulasi, objek dapat terdiri dari berbagai jenis tipe data, sehingga dalam 1 list bisa terdapat lebih dari 1 jenis tipe data\n",
        "\n",
        "\n"
      ]
    },
    {
      "cell_type": "code",
      "execution_count": 32,
      "metadata": {
        "colab": {
          "background_save": true
        },
        "id": "3hwoJyrD--MN"
      },
      "outputs": [],
      "source": [
        "# mendeklariskan list\n",
        "# untuk mendeklarasikan list dapat menggunakan tanda []\n",
        "\n",
        "list_a = []"
      ]
    },
    {
      "cell_type": "code",
      "execution_count": 33,
      "metadata": {
        "colab": {
          "background_save": true
        },
        "id": "Lw13ZaVMuyT0",
        "outputId": "42f9a329-0869-46c4-e42f-506f7d39d9b6"
      },
      "outputs": [
        {
          "data": {
            "text/plain": [
              "[]"
            ]
          },
          "execution_count": 33,
          "metadata": {},
          "output_type": "execute_result"
        }
      ],
      "source": [
        "list_a"
      ]
    },
    {
      "cell_type": "markdown",
      "metadata": {
        "colab": {
          "background_save": true
        },
        "id": "1_CN6W-du0pY"
      },
      "source": [
        "list_a sudah terbentuk dengan value yang kosong ( list kosong )"
      ]
    },
    {
      "cell_type": "code",
      "execution_count": 34,
      "metadata": {},
      "outputs": [],
      "source": [
        "list_b = ['aku', 1, 3.14]"
      ]
    },
    {
      "cell_type": "code",
      "execution_count": 35,
      "metadata": {},
      "outputs": [
        {
          "data": {
            "text/plain": [
              "['aku', 1, 3.14]"
            ]
          },
          "execution_count": 35,
          "metadata": {},
          "output_type": "execute_result"
        }
      ],
      "source": [
        "list_b\n"
      ]
    },
    {
      "cell_type": "markdown",
      "metadata": {},
      "source": [
        "list_b sudah terbentuk dengan objek yang terdiri dari string, integer, dan float"
      ]
    },
    {
      "cell_type": "code",
      "execution_count": 36,
      "metadata": {},
      "outputs": [
        {
          "data": {
            "text/plain": [
              "'aku'"
            ]
          },
          "execution_count": 36,
          "metadata": {},
          "output_type": "execute_result"
        }
      ],
      "source": [
        "# cara mengakses elemen / objek pada list\n",
        "# misal kita ingin mengakses elemen pertama pada list yaitu 'aku' maka kita bisa memanfaatkan indexing pada list dimana index dimulai dari 0,1,2 dst\n",
        "# mengakses elemen pertama\n",
        "\n",
        "list_b[0]"
      ]
    },
    {
      "cell_type": "markdown",
      "metadata": {},
      "source": [
        "caranya adalah dengan memaksukan nama variabel list kemudian diikuti dengan [] yang didalamnya dimasukkan index yang dimulai dari 0"
      ]
    },
    {
      "cell_type": "code",
      "execution_count": 37,
      "metadata": {},
      "outputs": [
        {
          "name": "stdout",
          "output_type": "stream",
          "text": [
            "aku\n",
            "1\n",
            "3.14\n"
          ]
        }
      ],
      "source": [
        "print(list_b[0])\n",
        "print(list_b[1])\n",
        "print(list_b[2])"
      ]
    },
    {
      "cell_type": "markdown",
      "metadata": {},
      "source": [
        "### Memanipulasi List\n",
        "Jika diperhatikan pada penjelasan mengenai tipe diatas dikatakan bahwa list dapat diedit, dapat diedit artinya list dapat dimanipulasi dimana kita bisa menambah, mengurang dan mengedit objek atau elemen yang ada pada list, berikut merupakan implementasi manipulasi list pada python"
      ]
    },
    {
      "cell_type": "code",
      "execution_count": 38,
      "metadata": {},
      "outputs": [],
      "source": [
        "#menambah element pada list menggunakan append\n",
        "list_b.append('elemen_baru')\n"
      ]
    },
    {
      "cell_type": "code",
      "execution_count": 39,
      "metadata": {},
      "outputs": [
        {
          "data": {
            "text/plain": [
              "['aku', 1, 3.14, 'elemen_baru']"
            ]
          },
          "execution_count": 39,
          "metadata": {},
          "output_type": "execute_result"
        }
      ],
      "source": [
        "list_b\n"
      ]
    },
    {
      "cell_type": "code",
      "execution_count": 40,
      "metadata": {},
      "outputs": [],
      "source": [
        "#update element pada list\n",
        "#untuk mengupdate element pada list terlebih dahulu akses elemen tersebut lalu update\n",
        "list_b[3] = 'elemen_baru_updated'"
      ]
    },
    {
      "cell_type": "code",
      "execution_count": 41,
      "metadata": {},
      "outputs": [
        {
          "data": {
            "text/plain": [
              "['aku', 1, 3.14, 'elemen_baru_updated']"
            ]
          },
          "execution_count": 41,
          "metadata": {},
          "output_type": "execute_result"
        }
      ],
      "source": [
        "list_b\n"
      ]
    },
    {
      "cell_type": "code",
      "execution_count": 42,
      "metadata": {},
      "outputs": [],
      "source": [
        "#menghapus elemen pada list\n",
        "#untuk menghapus elemen pada list langsung saja hapus valuenya dengan menggunakan keyword remove\n",
        "list_b.remove('elemen_baru_updated')"
      ]
    },
    {
      "cell_type": "code",
      "execution_count": 43,
      "metadata": {},
      "outputs": [
        {
          "data": {
            "text/plain": [
              "['aku', 1, 3.14]"
            ]
          },
          "execution_count": 43,
          "metadata": {},
          "output_type": "execute_result"
        }
      ],
      "source": [
        "list_b\n"
      ]
    },
    {
      "cell_type": "markdown",
      "metadata": {},
      "source": [
        "elemen baru berhasil dihapus"
      ]
    },
    {
      "cell_type": "markdown",
      "metadata": {},
      "source": [
        "### 3.2 Tuples\n",
        "Pada dasarnya tuples dan list memiliki kesalamaan terutama dalam hal pen deklarasian, dan dapat diisi oleh lebih dari 1 tipe data, hanya saja tuple tidak dapat dimodifikasi."
      ]
    },
    {
      "cell_type": "code",
      "execution_count": 44,
      "metadata": {},
      "outputs": [
        {
          "name": "stdout",
          "output_type": "stream",
          "text": [
            "10\n",
            "apple\n"
          ]
        }
      ],
      "source": [
        "#deklarasi tuple\n",
        "my_tuple = (10, 20, 30, 'apple', 'banana')\n",
        "\n",
        "# Akses element\n",
        "print(my_tuple[0])\n",
        "print(my_tuple[3])\n"
      ]
    },
    {
      "cell_type": "code",
      "execution_count": 45,
      "metadata": {},
      "outputs": [
        {
          "name": "stdout",
          "output_type": "stream",
          "text": [
            "10\n",
            "20\n",
            "30\n"
          ]
        }
      ],
      "source": [
        "#memecah tuple\n",
        "#tuple dapat dipecah dan di assign ke dalam sebuah variabel\n",
        "my_tuple = (10, 20, 30)\n",
        "\n",
        "# Memecah tuple\n",
        "a, b, c = my_tuple\n",
        "print(a)\n",
        "print(b)\n",
        "print(c)\n"
      ]
    },
    {
      "cell_type": "markdown",
      "metadata": {},
      "source": [
        "### 3.7 Dictionaries\n",
        "Dictionaries pada python merupakan proses pendeklarisan suatu data yang diikuti dengan key dan value yang berpasang2an"
      ]
    },
    {
      "cell_type": "code",
      "execution_count": 46,
      "metadata": {},
      "outputs": [],
      "source": [
        "# membuat sebuah dictionary\n",
        "\n",
        "student = {\n",
        "    'name': 'Amin',\n",
        "    'age': 19,\n",
        "    'major': 'Sistem Informasi',\n",
        "    'gpa': 3.8\n",
        "}\n",
        "\n"
      ]
    },
    {
      "cell_type": "code",
      "execution_count": 47,
      "metadata": {},
      "outputs": [
        {
          "data": {
            "text/plain": [
              "{'name': 'Amin', 'age': 19, 'major': 'Sistem Informasi', 'gpa': 3.8}"
            ]
          },
          "execution_count": 47,
          "metadata": {},
          "output_type": "execute_result"
        }
      ],
      "source": [
        "student\n"
      ]
    },
    {
      "cell_type": "code",
      "execution_count": 48,
      "metadata": {},
      "outputs": [
        {
          "name": "stdout",
          "output_type": "stream",
          "text": [
            "dict_keys(['name', 'age', 'major', 'gpa'])\n",
            "dict_values(['Amin', 19, 'Sistem Informasi', 3.8])\n",
            "dict_items([('name', 'Amin'), ('age', 19), ('major', 'Sistem Informasi'), ('gpa', 3.8)])\n"
          ]
        }
      ],
      "source": [
        "# Akses keys, values, dan items yang ada pada dictionary\n",
        "keys = student.keys()\n",
        "values = student.values()\n",
        "items = student.items()\n",
        "\n",
        "print(keys)\n",
        "print(values)\n",
        "print(items)\n",
        "\n"
      ]
    },
    {
      "cell_type": "code",
      "execution_count": 49,
      "metadata": {},
      "outputs": [
        {
          "name": "stdout",
          "output_type": "stream",
          "text": [
            "True\n",
            "False\n"
          ]
        }
      ],
      "source": [
        "# Check apakah key terdapat pada dictionary\n",
        "print('name' in student)\n",
        "print('address' in student)"
      ]
    },
    {
      "cell_type": "code",
      "execution_count": 50,
      "metadata": {},
      "outputs": [
        {
          "data": {
            "text/plain": [
              "{'age': 19, 'major': 'Sistem Informasi', 'gpa': 3.8}"
            ]
          },
          "execution_count": 50,
          "metadata": {},
          "output_type": "execute_result"
        }
      ],
      "source": [
        "#menhghapus salah satu item pada dictionarny \n",
        "student.pop('name')\n",
        "student"
      ]
    },
    {
      "cell_type": "markdown",
      "metadata": {},
      "source": [
        "## 4. Numpy"
      ]
    },
    {
      "cell_type": "code",
      "execution_count": null,
      "metadata": {},
      "outputs": [],
      "source": []
    }
  ],
  "metadata": {
    "colab": {
      "provenance": []
    },
    "kernelspec": {
      "display_name": "Python 3",
      "name": "python3"
    },
    "language_info": {
      "codemirror_mode": {
        "name": "ipython",
        "version": 3
      },
      "file_extension": ".py",
      "mimetype": "text/x-python",
      "name": "python",
      "nbconvert_exporter": "python",
      "pygments_lexer": "ipython3",
      "version": "3.11.3"
    }
  },
  "nbformat": 4,
  "nbformat_minor": 0
}
