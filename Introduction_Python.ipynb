{
  "nbformat": 4,
  "nbformat_minor": 0,
  "metadata": {
    "colab": {
      "provenance": []
    },
    "kernelspec": {
      "name": "python3",
      "display_name": "Python 3"
    },
    "language_info": {
      "name": "python"
    }
  },
  "cells": [
    {
      "cell_type": "markdown",
      "source": [
        "##1. Start with Hello World"
      ],
      "metadata": {
        "id": "EO9ixRYxCsqW"
      }
    },
    {
      "cell_type": "code",
      "execution_count": null,
      "metadata": {
        "colab": {
          "base_uri": "https://localhost:8080/"
        },
        "id": "BFB-HGivCWVj",
        "outputId": "d00f7cb6-154f-4174-efc1-d15f95c4797b"
      },
      "outputs": [
        {
          "output_type": "stream",
          "name": "stdout",
          "text": [
            "Hello World\n"
          ]
        }
      ],
      "source": [
        "print('Hello World')"
      ]
    },
    {
      "cell_type": "markdown",
      "source": [],
      "metadata": {
        "id": "7ZEec9cBBGb1"
      }
    },
    {
      "cell_type": "markdown",
      "source": [
        "## 2.Variables\n",
        "\n",
        "Dalam standar pemrograman terdapat beberapa aturan dalam penggunaan variabel (naming convencion) yaitu camelCase, snake_case, dan CamelCase. Ketiga naming convencion ini valid , dan dilarang untuk menggabungkan angka atau karakter kedalam penamaan variabel"
      ],
      "metadata": {
        "id": "3vcN0UWFC_JW"
      }
    },
    {
      "cell_type": "code",
      "source": [
        "camelCase = 'camel'\n",
        "snake_case = 'snake'\n",
        "PascalCase = 'pascal'\n",
        "\n"
      ],
      "metadata": {
        "id": "6fKS_RlWCvIn"
      },
      "execution_count": null,
      "outputs": []
    },
    {
      "cell_type": "code",
      "source": [
        "camelCase"
      ],
      "metadata": {
        "colab": {
          "base_uri": "https://localhost:8080/",
          "height": 35
        },
        "id": "c8P5KR43DhCw",
        "outputId": "d15b515a-e5f5-40f9-e3fc-f6449343634d"
      },
      "execution_count": null,
      "outputs": [
        {
          "output_type": "execute_result",
          "data": {
            "text/plain": [
              "'camel'"
            ],
            "application/vnd.google.colaboratory.intrinsic+json": {
              "type": "string"
            }
          },
          "metadata": {},
          "execution_count": 3
        }
      ]
    },
    {
      "cell_type": "code",
      "source": [
        "snake_case"
      ],
      "metadata": {
        "colab": {
          "base_uri": "https://localhost:8080/",
          "height": 35
        },
        "id": "I8D0BDDnDs0R",
        "outputId": "e2e9bd4e-cd74-4e5c-c88c-d44200797668"
      },
      "execution_count": null,
      "outputs": [
        {
          "output_type": "execute_result",
          "data": {
            "text/plain": [
              "'snake'"
            ],
            "application/vnd.google.colaboratory.intrinsic+json": {
              "type": "string"
            }
          },
          "metadata": {},
          "execution_count": 4
        }
      ]
    },
    {
      "cell_type": "code",
      "source": [
        "PascalCase"
      ],
      "metadata": {
        "colab": {
          "base_uri": "https://localhost:8080/",
          "height": 35
        },
        "id": "wtiIEfo1EK1z",
        "outputId": "14703bdd-6aab-44a6-f5bf-b25a27e7f680"
      },
      "execution_count": null,
      "outputs": [
        {
          "output_type": "execute_result",
          "data": {
            "text/plain": [
              "'pascal'"
            ],
            "application/vnd.google.colaboratory.intrinsic+json": {
              "type": "string"
            }
          },
          "metadata": {},
          "execution_count": 5
        }
      ]
    },
    {
      "cell_type": "code",
      "source": [
        "#1arm = 'one'"
      ],
      "metadata": {
        "id": "zZWapSVjEMBC"
      },
      "execution_count": null,
      "outputs": []
    },
    {
      "cell_type": "markdown",
      "source": [
        "## 2.Comment\n",
        "\n",
        "Comment meruapakan suatu tindakan untuk menambahkan kalimat dalam struktur kode yang sedang kita buat tanpa harus perlu di compile oleh compiler, misalnya untuk memberikan step pengerjaan atau menjelaskan detail penggunaan suatu kode"
      ],
      "metadata": {
        "id": "JI5g6GrnEdaC"
      }
    },
    {
      "cell_type": "code",
      "source": [
        "world = 'hello world' # cara membuat variabel\n",
        "# hello = 'hello world'"
      ],
      "metadata": {
        "id": "XWGaeJ9WEQK9"
      },
      "execution_count": null,
      "outputs": []
    },
    {
      "cell_type": "code",
      "source": [
        "world"
      ],
      "metadata": {
        "colab": {
          "base_uri": "https://localhost:8080/",
          "height": 35
        },
        "id": "naMNRWIBFTDm",
        "outputId": "90266175-5ddd-4ace-c368-246474d78165"
      },
      "execution_count": null,
      "outputs": [
        {
          "output_type": "execute_result",
          "data": {
            "text/plain": [
              "'hello world'"
            ],
            "application/vnd.google.colaboratory.intrinsic+json": {
              "type": "string"
            }
          },
          "metadata": {},
          "execution_count": 8
        }
      ]
    },
    {
      "cell_type": "code",
      "source": [
        "#hello"
      ],
      "metadata": {
        "id": "rkm7oFY5FXuu"
      },
      "execution_count": null,
      "outputs": []
    },
    {
      "cell_type": "markdown",
      "source": [
        "Pada line pertama terlihat bahwa saat mendeklarasikan variabel world kita menambahkan keterangan dengan comment untuk memberikan penjelasan / detail, sedangkan pada line kedua kodenya di berikan komen sehingga tidak ikut diekseskusi dan menimbulkan error ketika variabel hello ingin kita panggil , cara pengguaan komen pada python adalah dengan menambahkan tanda # pada kodingan"
      ],
      "metadata": {
        "id": "LEAfnnSQE_jg"
      }
    },
    {
      "cell_type": "markdown",
      "source": [
        "## 3. Data Types\n",
        "Data Types merupakan jenis atau pengelompokan suatu data yang akan disimpan ke variabel sehingga computer dapat mengenalinya. Terdapat beberapa jenis tipe data diantaranya\n",
        "\n",
        "1. INTEGER\n",
        "2. FLOAT\n",
        "3. STRINGS\n",
        "4. BOOLEAN\n",
        "5. LISTS\n",
        "6. TUPLES\n",
        "7. DICTIONARIES\n"
      ],
      "metadata": {
        "id": "j34gZ0XVFfbI"
      }
    },
    {
      "cell_type": "markdown",
      "source": [
        "###3.1 Integer\n",
        "Integer berarti bilangan bulat mis : 1,3,5,10,200, dll"
      ],
      "metadata": {
        "id": "N_9eDFa3HrfL"
      }
    },
    {
      "cell_type": "code",
      "source": [
        "a = 1\n",
        "b = 2"
      ],
      "metadata": {
        "id": "rwAEUoPTE94T"
      },
      "execution_count": null,
      "outputs": []
    },
    {
      "cell_type": "code",
      "source": [
        "print(a, b)\n",
        "print(type(a), type(b))"
      ],
      "metadata": {
        "colab": {
          "base_uri": "https://localhost:8080/"
        },
        "id": "kKt6vDJCHotn",
        "outputId": "29da5412-a935-489e-e6c5-94240e6de135"
      },
      "execution_count": null,
      "outputs": [
        {
          "output_type": "stream",
          "name": "stdout",
          "text": [
            "1 2\n",
            "<class 'int'> <class 'int'>\n"
          ]
        }
      ]
    },
    {
      "cell_type": "markdown",
      "source": [
        "*Notes : Salah satu kelebihan python adalah bahwa ketika kita mendeklarasikan suatu variabel kita tidak perlu mendefiniskan tipe datanya, dalam kata lain tipe datanya akan membaca ke value yang di assign ke variabel tersebut, pengecekan tipe data dapat dilakukan dengan menggunakan type*"
      ],
      "metadata": {
        "id": "cQ5yUfdgIesY"
      }
    },
    {
      "cell_type": "markdown",
      "source": [
        "### 3.2 FLoat\n",
        "Float merupakan tipe data yang bersifat desimal"
      ],
      "metadata": {
        "id": "wDunZPOaJF_0"
      }
    },
    {
      "cell_type": "code",
      "source": [
        "c = 3.14\n",
        "print(type(c))"
      ],
      "metadata": {
        "colab": {
          "base_uri": "https://localhost:8080/"
        },
        "id": "Lmf03KSYI0zS",
        "outputId": "3f0d37bf-1df4-48f6-f851-6ab893470301"
      },
      "execution_count": null,
      "outputs": [
        {
          "output_type": "stream",
          "name": "stdout",
          "text": [
            "<class 'float'>\n"
          ]
        }
      ]
    },
    {
      "cell_type": "markdown",
      "source": [
        "###3.3 Strings\n",
        "String merupakan tipe data yang menyimpan kata atau kalimat\n"
      ],
      "metadata": {
        "id": "gFhD4qplJU6A"
      }
    },
    {
      "cell_type": "code",
      "source": [
        "d = \"data analysis\"\n",
        "print(d)\n",
        "print(type(d))"
      ],
      "metadata": {
        "colab": {
          "base_uri": "https://localhost:8080/"
        },
        "id": "0ofJ8QBgJNL_",
        "outputId": "d2799038-ec59-4f83-b790-7d347bb2720d"
      },
      "execution_count": null,
      "outputs": [
        {
          "output_type": "stream",
          "name": "stdout",
          "text": [
            "data analysis\n",
            "<class 'str'>\n"
          ]
        }
      ]
    },
    {
      "cell_type": "markdown",
      "source": [
        "### 3.4 List\n",
        "List merupakan sekumpulan objek yang dapat diedit atau di manipulasi, objek dapat terdiri dari berbagai jenis tipe data, sehingga dalam 1 list bisa terdapat lebih dari 1 jenis tipe data"
      ],
      "metadata": {
        "id": "Hex4BYMGKQnA"
      }
    },
    {
      "cell_type": "code",
      "source": [
        "# mendeklariskan list\n",
        "# untuk mendeklarasikan list dapat menggunakan tanda []\n",
        "\n",
        "list_a = []"
      ],
      "metadata": {
        "id": "uUtufQqGJy89"
      },
      "execution_count": null,
      "outputs": []
    },
    {
      "cell_type": "code",
      "source": [
        "list_a"
      ],
      "metadata": {
        "colab": {
          "base_uri": "https://localhost:8080/"
        },
        "id": "J_k_NkhVKte1",
        "outputId": "3e25eccc-e60b-45a7-b654-78f672f8cb30"
      },
      "execution_count": null,
      "outputs": [
        {
          "output_type": "execute_result",
          "data": {
            "text/plain": [
              "[]"
            ]
          },
          "metadata": {},
          "execution_count": 15
        }
      ]
    },
    {
      "cell_type": "markdown",
      "source": [
        "list_a sudah terbentuk dengan value yang kosong ( list kosong )"
      ],
      "metadata": {
        "id": "a7QVmt9XKxK7"
      }
    },
    {
      "cell_type": "code",
      "source": [
        "list_b = ['aku', 1, 3.14]"
      ],
      "metadata": {
        "id": "okOZi2MtKv5y"
      },
      "execution_count": null,
      "outputs": []
    },
    {
      "cell_type": "code",
      "source": [
        "list_b"
      ],
      "metadata": {
        "colab": {
          "base_uri": "https://localhost:8080/"
        },
        "id": "6ASQ_pCxK8iP",
        "outputId": "d41cd491-7ed6-4c56-fb02-e7e73c2c4162"
      },
      "execution_count": null,
      "outputs": [
        {
          "output_type": "execute_result",
          "data": {
            "text/plain": [
              "['aku', 1, 3.14]"
            ]
          },
          "metadata": {},
          "execution_count": 17
        }
      ]
    },
    {
      "cell_type": "markdown",
      "source": [
        "list_b sudah terbentuk dengan objek yang terdiri dari string, integer, dan float"
      ],
      "metadata": {
        "id": "rbkQ1gkDLEqt"
      }
    },
    {
      "cell_type": "code",
      "source": [
        "# cara mengakses elemen / objek pada list\n",
        "# misal kita ingin mengakses elemen pertama pada list yaitu 'aku' maka kita bisa memanfaatkan indexing pada list dimana index dimulai dari 0,1,2 dst\n",
        "# mengakses elemen pertama\n",
        "\n",
        "list_b[0]"
      ],
      "metadata": {
        "colab": {
          "base_uri": "https://localhost:8080/",
          "height": 35
        },
        "id": "9wOb3e56K9nf",
        "outputId": "d1427ac9-6ade-4188-c07c-c4f92718d793"
      },
      "execution_count": null,
      "outputs": [
        {
          "output_type": "execute_result",
          "data": {
            "text/plain": [
              "'aku'"
            ],
            "application/vnd.google.colaboratory.intrinsic+json": {
              "type": "string"
            }
          },
          "metadata": {},
          "execution_count": 18
        }
      ]
    },
    {
      "cell_type": "markdown",
      "source": [
        "caranya adalah dengan memaksukan nama variabel list kemudian diikuti dengan [] yang didalamnya dimasukkan index yang dimulai dari 0"
      ],
      "metadata": {
        "id": "7Hg59QNfLlwt"
      }
    },
    {
      "cell_type": "code",
      "source": [
        "print(list_b[0])\n",
        "print(list_b[1])\n",
        "print(list_b[2])"
      ],
      "metadata": {
        "colab": {
          "base_uri": "https://localhost:8080/"
        },
        "id": "zW2kk7vgLSMf",
        "outputId": "bd56a85e-04f1-4923-acaf-97859b1c1676"
      },
      "execution_count": null,
      "outputs": [
        {
          "output_type": "stream",
          "name": "stdout",
          "text": [
            "aku\n",
            "1\n",
            "3.14\n"
          ]
        }
      ]
    },
    {
      "cell_type": "markdown",
      "source": [
        "### Memanipulasi List\n",
        "Jika diperhatikan pada penjelasan mengenai tipe diatas dikatakan bahwa list dapat diedit, dapat diedit artinya list dapat dimanipulasi dimana kita bisa menambah, mengurang dan mengedit objek atau elemen yang ada pada list, berikut merupakan implementasi manipulasi list pada python"
      ],
      "metadata": {
        "id": "9Pumf2CUJLHO"
      }
    },
    {
      "cell_type": "code",
      "source": [
        "#menambah element pada list menggunakan append\n",
        "list_b.append('elemen_baru')\n"
      ],
      "metadata": {
        "id": "L9HinMQBLxXY"
      },
      "execution_count": null,
      "outputs": []
    },
    {
      "cell_type": "code",
      "source": [
        "list_b"
      ],
      "metadata": {
        "colab": {
          "base_uri": "https://localhost:8080/"
        },
        "id": "ZqutNhVbUSrr",
        "outputId": "828ca5e8-78bd-4872-eee1-9b885a705678"
      },
      "execution_count": null,
      "outputs": [
        {
          "output_type": "execute_result",
          "data": {
            "text/plain": [
              "['aku', 1, 3.14, 'elemen_baru']"
            ]
          },
          "metadata": {},
          "execution_count": 21
        }
      ]
    },
    {
      "cell_type": "markdown",
      "source": [
        "elemen baru berhasil ditambahkan pada list"
      ],
      "metadata": {
        "id": "tsDbm0u6T0D2"
      }
    },
    {
      "cell_type": "code",
      "source": [
        "#update element pada list\n",
        "#untuk mengupdate element pada list terlebih dahulu akses elemen tersebut lalu update\n",
        "list_b[3] = 'elemen_baru_updated'"
      ],
      "metadata": {
        "id": "Dueiy7rkT7C1"
      },
      "execution_count": null,
      "outputs": []
    },
    {
      "cell_type": "code",
      "source": [
        "list_b"
      ],
      "metadata": {
        "colab": {
          "base_uri": "https://localhost:8080/"
        },
        "id": "IJe16S5DWRGx",
        "outputId": "d65240b1-50ba-457e-96fb-6b2cfe84aa3c"
      },
      "execution_count": null,
      "outputs": [
        {
          "output_type": "execute_result",
          "data": {
            "text/plain": [
              "['aku', 1, 3.14, 'elemen_baru_updated']"
            ]
          },
          "metadata": {},
          "execution_count": 23
        }
      ]
    },
    {
      "cell_type": "markdown",
      "source": [
        "elemen_baru yang ditambahkan berhasil diupdate menjadi elemen_baru_updated"
      ],
      "metadata": {
        "id": "1P9hlr1GWWom"
      }
    },
    {
      "cell_type": "code",
      "source": [
        "#menghapus elemen pada list\n",
        "#untuk menghapus elemen pada list langsung saja hapus valuenya dengan menggunakan keyword remove\n",
        "list_b.remove('elemen_baru_updated')"
      ],
      "metadata": {
        "id": "qKGdNT3oWcAF"
      },
      "execution_count": null,
      "outputs": []
    },
    {
      "cell_type": "code",
      "source": [
        "list_b"
      ],
      "metadata": {
        "colab": {
          "base_uri": "https://localhost:8080/"
        },
        "id": "C3XApm3pWtGK",
        "outputId": "bc03c1af-906f-43f5-f285-a10ea1aa6f22"
      },
      "execution_count": null,
      "outputs": [
        {
          "output_type": "execute_result",
          "data": {
            "text/plain": [
              "['aku', 1, 3.14]"
            ]
          },
          "metadata": {},
          "execution_count": 25
        }
      ]
    },
    {
      "cell_type": "markdown",
      "source": [
        "elemen baru berhasil dihapus"
      ],
      "metadata": {
        "id": "GC-l3EI5WyFA"
      }
    },
    {
      "cell_type": "code",
      "source": [],
      "metadata": {
        "id": "hMoRYqFpWvfI"
      },
      "execution_count": null,
      "outputs": []
    },
    {
      "cell_type": "markdown",
      "source": [
        "###3.5 Boolean"
      ],
      "metadata": {
        "id": "YPbcNNw7Twr7"
      }
    },
    {
      "cell_type": "code",
      "source": [
        "a = True\n",
        "print(a)\n",
        "print(type(a))"
      ],
      "metadata": {
        "colab": {
          "base_uri": "https://localhost:8080/"
        },
        "id": "F-hCDzPhTu6W",
        "outputId": "e94d481f-8732-46d2-ff53-f708d7404865"
      },
      "execution_count": null,
      "outputs": [
        {
          "output_type": "stream",
          "name": "stdout",
          "text": [
            "True\n",
            "<class 'bool'>\n"
          ]
        }
      ]
    },
    {
      "cell_type": "code",
      "source": [
        "a = 1\n",
        "b = 2"
      ],
      "metadata": {
        "id": "rqzWJEghYCHV"
      },
      "execution_count": null,
      "outputs": []
    },
    {
      "cell_type": "code",
      "source": [
        "print(a > 1)"
      ],
      "metadata": {
        "colab": {
          "base_uri": "https://localhost:8080/"
        },
        "id": "P-e3V3qoYGYE",
        "outputId": "c56771aa-88a9-4489-da75-4852b1796c49"
      },
      "execution_count": null,
      "outputs": [
        {
          "output_type": "stream",
          "name": "stdout",
          "text": [
            "False\n"
          ]
        }
      ]
    },
    {
      "cell_type": "markdown",
      "source": [
        "###3.6 Tuples\n",
        "Pada dasarnya tuples dan list memiliki kesalamaan terutama dalam hal pen deklarasian, dan dapat diisi oleh lebih dari 1 tipe data, hanya saja tuple tidak dapat dimodifikasi."
      ],
      "metadata": {
        "id": "wOT8valEYPjc"
      }
    },
    {
      "cell_type": "code",
      "source": [
        "#deklarasi tuple\n",
        "my_tuple = (10, 20, 30, 'apple', 'banana')\n",
        "\n",
        "# Akses element\n",
        "print(my_tuple[0])\n",
        "print(my_tuple[3])\n"
      ],
      "metadata": {
        "colab": {
          "base_uri": "https://localhost:8080/"
        },
        "id": "8KE5cNKBYISy",
        "outputId": "c1632ba9-d4d4-46d6-ce82-4fcf5bb740f0"
      },
      "execution_count": null,
      "outputs": [
        {
          "output_type": "stream",
          "name": "stdout",
          "text": [
            "10\n",
            "apple\n"
          ]
        }
      ]
    },
    {
      "cell_type": "code",
      "source": [
        "#memecah tuple\n",
        "#tuple dapat dipecah dan di assign ke dalam sebuah variabel\n",
        "my_tuple = (10, 20, 30)\n",
        "\n",
        "# Memecah tuple\n",
        "a, b, c = my_tuple\n",
        "print(a)\n",
        "print(b)\n",
        "print(c)\n"
      ],
      "metadata": {
        "colab": {
          "base_uri": "https://localhost:8080/"
        },
        "id": "aCKVkshgYz08",
        "outputId": "4d7377c9-09c4-4ce4-a936-8de4aa6076d2"
      },
      "execution_count": null,
      "outputs": [
        {
          "output_type": "stream",
          "name": "stdout",
          "text": [
            "10\n",
            "20\n",
            "30\n"
          ]
        }
      ]
    },
    {
      "cell_type": "markdown",
      "source": [
        "###3.7 Dictionaries\n",
        "Dictionaries pada python merupakan proses pendeklarisan suatu data yang diikuti dengan key dan value yang berpasang2an"
      ],
      "metadata": {
        "id": "onD8A4w-Zk9L"
      }
    },
    {
      "cell_type": "code",
      "source": [
        "# membuat sebuah dictionary\n",
        "\n",
        "student = {\n",
        "    'name': 'Amin',\n",
        "    'age': 19,\n",
        "    'major': 'Sistem Informasi',\n",
        "    'gpa': 3.8\n",
        "}\n",
        "\n"
      ],
      "metadata": {
        "id": "WOh0SIfEZFuJ"
      },
      "execution_count": null,
      "outputs": []
    },
    {
      "cell_type": "code",
      "source": [
        "student"
      ],
      "metadata": {
        "colab": {
          "base_uri": "https://localhost:8080/"
        },
        "id": "9JOqb-nUaZNQ",
        "outputId": "4ace9e31-1168-46a0-bfed-0a8537fab2cb"
      },
      "execution_count": null,
      "outputs": [
        {
          "output_type": "execute_result",
          "data": {
            "text/plain": [
              "{'name': 'Amin', 'age': 19, 'major': 'Sistem Informasi', 'gpa': 3.8}"
            ]
          },
          "metadata": {},
          "execution_count": 32
        }
      ]
    },
    {
      "cell_type": "code",
      "source": [
        "# Akses keys, values, dan items yang ada pada dictionary\n",
        "keys = student.keys()\n",
        "values = student.values()\n",
        "items = student.items()\n",
        "\n",
        "print(keys)\n",
        "print(values)\n",
        "print(items)\n",
        "\n"
      ],
      "metadata": {
        "colab": {
          "base_uri": "https://localhost:8080/"
        },
        "id": "BEMWp4GtaE7E",
        "outputId": "ba66693d-a6b9-42e3-82da-e1cfd814d0f1"
      },
      "execution_count": null,
      "outputs": [
        {
          "output_type": "stream",
          "name": "stdout",
          "text": [
            "dict_keys(['name', 'age', 'major', 'gpa'])\n",
            "dict_values(['Amin', 19, 'Sistem Informasi', 3.8])\n",
            "dict_items([('name', 'Amin'), ('age', 19), ('major', 'Sistem Informasi'), ('gpa', 3.8)])\n"
          ]
        }
      ]
    },
    {
      "cell_type": "code",
      "source": [
        "# Check apakah key terdapat pada dictionary\n",
        "print('name' in student)\n",
        "print('address' in student)"
      ],
      "metadata": {
        "colab": {
          "base_uri": "https://localhost:8080/"
        },
        "id": "ulb5afQ2aMSS",
        "outputId": "d6caf371-916a-4497-8e5f-09be5cfe4ef9"
      },
      "execution_count": null,
      "outputs": [
        {
          "output_type": "stream",
          "name": "stdout",
          "text": [
            "True\n",
            "False\n"
          ]
        }
      ]
    },
    {
      "cell_type": "markdown",
      "source": [
        "## 4. Condition\n",
        "Pada pemrograman condition digunakan untuk pengecekan suatu value atau logika tertentu\n",
        "Dalam bahasa pemrograman python dan bahasa pemrograman pada umumnya condition menggunakan if, else, else if / elif (pada python)\n"
      ],
      "metadata": {
        "id": "KECii-3jBw4S"
      }
    },
    {
      "cell_type": "code",
      "source": [
        "#contoh penggunaan if\n",
        "a = 1\n",
        "if(a == 1):\n",
        "  print('benar')"
      ],
      "metadata": {
        "id": "kIQ8yKOlaM7A",
        "colab": {
          "base_uri": "https://localhost:8080/"
        },
        "outputId": "c8136e5f-b9e6-418e-f2dd-ed757b1ac2a5"
      },
      "execution_count": null,
      "outputs": [
        {
          "output_type": "stream",
          "name": "stdout",
          "text": [
            "benar\n"
          ]
        }
      ]
    },
    {
      "cell_type": "code",
      "source": [
        "#contoh penggunaan if dan else\n",
        "b = 2\n",
        "if(a == 1):\n",
        "  print('benar')\n",
        "else:\n",
        "  print('salah')"
      ],
      "metadata": {
        "id": "YRL2mo9gCPxG",
        "colab": {
          "base_uri": "https://localhost:8080/"
        },
        "outputId": "426fb179-2e5d-4da6-d648-1eafef70b3ee"
      },
      "execution_count": null,
      "outputs": [
        {
          "output_type": "stream",
          "name": "stdout",
          "text": [
            "benar\n"
          ]
        }
      ]
    },
    {
      "cell_type": "markdown",
      "source": [
        "### Notes\n",
        "Perhatikan perbedaan antara penggunaan = dan == , dalam pemrograman = digunakan untuk mengassign value ke variabel sedangkan == untuk melakukan pengecekan value kedalam variabel tersebut"
      ],
      "metadata": {
        "id": "DuOT4jYTC7fi"
      }
    },
    {
      "cell_type": "code",
      "source": [
        "#contoh penggunaan if , else, dan elif\n",
        "c =3\n",
        "if (c == 3):\n",
        "     print(\"ini adalah angka 3\")\n",
        "elif (c > 3):\n",
        "     print(\"lebih besar dari 5\")\n",
        "else:\n",
        "     print(\"lebih kecil dari 5\")"
      ],
      "metadata": {
        "colab": {
          "base_uri": "https://localhost:8080/"
        },
        "id": "xYsaZ-ylCj7u",
        "outputId": "a7be9528-e442-4d67-fbe3-524d036cdca8"
      },
      "execution_count": null,
      "outputs": [
        {
          "output_type": "stream",
          "name": "stdout",
          "text": [
            "ini adalah angka 3\n"
          ]
        }
      ]
    },
    {
      "cell_type": "markdown",
      "source": [
        "Contoh Studi Kasus :\n",
        "Seorang guru ingin melakukan grading pada ujian mendatang dengan ketentutan sebagai berikut : <br>\n",
        "0 - 29 : E <br>\n",
        "30 - 49 : D<br>\n",
        "50 - 69 : C<br>\n",
        "70 - 79 : B <br>\n",
        "80 - 100 : A <br>\n",
        "\n",
        "Buatlah program dengan python dengan menggunakan logic tersebut. Gunakan input() untuk melakukan input nilai"
      ],
      "metadata": {
        "id": "SyD5RiU3DvIc"
      }
    },
    {
      "cell_type": "code",
      "source": [
        "input = int(input())"
      ],
      "metadata": {
        "id": "AAckhcMtDfjk",
        "colab": {
          "base_uri": "https://localhost:8080/"
        },
        "outputId": "192d3201-ff70-4b3c-ca2a-acf7e3dad9c8"
      },
      "execution_count": null,
      "outputs": [
        {
          "name": "stdout",
          "output_type": "stream",
          "text": [
            "48\n"
          ]
        }
      ]
    },
    {
      "cell_type": "code",
      "source": [
        "if (input >= 0 and input < 30):\n",
        "  print('E')\n",
        "elif(input >=30 and input < 50):\n",
        "  print('D')\n",
        "elif(input >= 50 and input < 70):\n",
        "  print('C')\n",
        "elif(input >= 70 and input <= 80):\n",
        "  print('B')\n",
        "else:\n",
        "  print('A')"
      ],
      "metadata": {
        "colab": {
          "base_uri": "https://localhost:8080/"
        },
        "id": "9v5vvi1NG54-",
        "outputId": "301c7938-d603-4311-c568-a9f0c089902a"
      },
      "execution_count": null,
      "outputs": [
        {
          "output_type": "stream",
          "name": "stdout",
          "text": [
            "D\n"
          ]
        }
      ]
    },
    {
      "cell_type": "markdown",
      "source": [
        "## 5. Looping"
      ],
      "metadata": {
        "id": "7hEjqBjSK2BL"
      }
    },
    {
      "cell_type": "markdown",
      "source": [
        "Looping perulangan merupakan suatu fundamental dalam programming yang memungkinkan kita untuk melakukan control flow untuk mengeksekusi suatu instruksi atau perintah secara berulang.\n",
        "Contoh kasus : misalkan kita ingin membagi 10 coklat kepada 10 orang teman kita, maka kasus tersebut dapat disebut sebagai looping atau perulangan , karena kita melakukan instruksi untuk membagi coklat sebanyak 10 kali. Dan dengan konsep looping ini kita bisa membagi 10 coklat sekaligus dengan 1 instruksi kode.\n",
        "\n",
        "Terdapat 2 jenis looping dalam pemrograman yaitu for looping dan while looping. Berikut implementasinya\n"
      ],
      "metadata": {
        "id": "orsvPbWnLV3Y"
      }
    },
    {
      "cell_type": "markdown",
      "source": [
        "### 5. 1 For Looping\n",
        "For looping digunakan untuk melakukan suatu perulangan dalam suatu urutan misalkan : list, tuple, dan range."
      ],
      "metadata": {
        "id": "Cfd1-N8hMjZM"
      }
    },
    {
      "cell_type": "code",
      "source": [
        "materi = [\"python\", \"sql\", \"visdat\"]\n",
        "for i in materi:\n",
        "    print(\"Saya belajar\", i)\n"
      ],
      "metadata": {
        "colab": {
          "base_uri": "https://localhost:8080/"
        },
        "id": "pColNJwgHerT",
        "outputId": "3b6cb51c-c27b-46dc-f685-8d0b6c87d740"
      },
      "execution_count": null,
      "outputs": [
        {
          "output_type": "stream",
          "name": "stdout",
          "text": [
            "Saya belajar python\n",
            "Saya belajar sql\n",
            "Saya belajar visdat\n"
          ]
        }
      ]
    },
    {
      "cell_type": "markdown",
      "source": [
        "### 5.2 While Looping\n",
        "While looping digunakan untuk melakukan looping selama kondisi yang diberikan masih memberikan nilai true\n",
        "\n"
      ],
      "metadata": {
        "id": "H0ai4aiSTP0z"
      }
    },
    {
      "cell_type": "code",
      "source": [
        "count = 0\n",
        "while count < 5:\n",
        "    print(\"Count is:\", count)\n",
        "    count += 1"
      ],
      "metadata": {
        "colab": {
          "base_uri": "https://localhost:8080/"
        },
        "id": "vpKFH6HdRgt8",
        "outputId": "9ef1d51a-c5bf-4439-a0c4-0cca506322bf"
      },
      "execution_count": null,
      "outputs": [
        {
          "output_type": "stream",
          "name": "stdout",
          "text": [
            "Count is: 0\n",
            "Count is: 1\n",
            "Count is: 2\n",
            "Count is: 3\n",
            "Count is: 4\n"
          ]
        }
      ]
    },
    {
      "cell_type": "code",
      "source": [
        "# Implementasi Studi kasus pembagian coklat\n",
        "# Misal total coklat 10\n",
        "num_chocolates = 10\n",
        "\n",
        "# Loop\n",
        "for friend in range(1, num_chocolates + 1):\n",
        "    print(\"Memberi chocolate\", friend)\n",
        "\n"
      ],
      "metadata": {
        "colab": {
          "base_uri": "https://localhost:8080/"
        },
        "id": "0DnCzcKQTkyQ",
        "outputId": "8e7d816b-9489-4a77-c0ca-12d6694cb94d"
      },
      "execution_count": null,
      "outputs": [
        {
          "output_type": "stream",
          "name": "stdout",
          "text": [
            "Memberi chocolate 1\n",
            "Memberi chocolate 2\n",
            "Memberi chocolate 3\n",
            "Memberi chocolate 4\n",
            "Memberi chocolate 5\n",
            "Memberi chocolate 6\n",
            "Memberi chocolate 7\n",
            "Memberi chocolate 8\n",
            "Memberi chocolate 9\n",
            "Memberi chocolate 10\n"
          ]
        }
      ]
    },
    {
      "cell_type": "markdown",
      "source": [
        "### 5.3 Range\n",
        "Range pada python merupakan sebuah fungsi yang digunakan untuk mereturn suatu angka atau bilangan sesuai dengan statement/parameter yang diberikan dimana paramter dari range diantaranya adalah sebagai berikut: <br>\n",
        "\n",
        "<b>range(start, stop, step)<b>"
      ],
      "metadata": {
        "id": "pMpFWdPOVl7L"
      }
    },
    {
      "cell_type": "code",
      "source": [
        "for i in range(5):\n",
        "    print(i)\n"
      ],
      "metadata": {
        "colab": {
          "base_uri": "https://localhost:8080/"
        },
        "id": "dXby5hWvT3cu",
        "outputId": "e17db7ca-fbfb-4cd2-dbcc-7f9f943382b8"
      },
      "execution_count": null,
      "outputs": [
        {
          "output_type": "stream",
          "name": "stdout",
          "text": [
            "0\n",
            "1\n",
            "2\n",
            "3\n",
            "4\n"
          ]
        }
      ]
    },
    {
      "cell_type": "code",
      "source": [
        "for i in range(1, 11, 2):\n",
        "    print(i)\n"
      ],
      "metadata": {
        "colab": {
          "base_uri": "https://localhost:8080/"
        },
        "id": "O0_wlYKsXQo7",
        "outputId": "a5a89976-c886-4cce-e9e2-678ae000cb8b"
      },
      "execution_count": null,
      "outputs": [
        {
          "output_type": "stream",
          "name": "stdout",
          "text": [
            "1\n",
            "3\n",
            "5\n",
            "7\n",
            "9\n"
          ]
        }
      ]
    }
  ]
}