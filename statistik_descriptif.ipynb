{
 "cells": [
  {
   "cell_type": "markdown",
   "id": "e9fb2046",
   "metadata": {},
   "source": [
    "## Pengertian Statistik \n",
    "\n",
    "<b>Statistik adalah ilmu yang berkaitan dengan pengumpulan, analisis, interpretasi, penyajian, dan pengorganisasian data. Tujuan utama statistik adalah untuk mengumpulkan informasi tentang suatu populasi atau sampel, sehingga kita dapat membuat kesimpulan atau prediksi berdasarkan data yang ada<b>. Statistik digunakan dalam berbagai bidang, seperti ilmu sosial, ekonomi, kesehatan, sains, bisnis, dan lain-lain.\n",
    "\n",
    "Beberapa konsep penting dalam statistik meliputi:\n",
    "\n",
    "Populasi: Merujuk pada seluruh kelompok individu atau objek yang ingin dipelajari atau dianalisis.\n",
    "\n",
    "Sampel: Sebagian kecil dari populasi yang diambil untuk mewakili populasi secara keseluruhan. Penggunaan sampel bertujuan untuk mempermudah pengumpulan data.\n",
    "\n",
    "Variabel: Karakteristik yang diukur atau diamati dalam populasi atau sampel, dapat berupa angka (variabel kuantitatif) atau kategori (variabel kualitatif).\n",
    "\n",
    "Data: Informasi yang dikumpulkan tentang variabel-variabel dalam populasi atau sampel.\n",
    "\n",
    "Metode Pengumpulan Data: Proses pengumpulan data dapat dilakukan melalui survei, eksperimen, atau metode lainnya, tergantung pada tujuan penelitian.\n",
    "\n",
    "Statistik Deskriptif: Metode yang digunakan untuk merangkum dan menyajikan data dalam bentuk tabel, grafik, atau ukuran statistik seperti rata-rata, median, dan sebagainya.\n",
    "\n",
    "Statistik Inferensial: Metode yang digunakan untuk membuat kesimpulan atau generalisasi tentang populasi berdasarkan data yang diambil dari sampel.\n",
    "\n",
    "Probabilitas: Konsep yang terkait dengan peluang atau kemungkinan suatu peristiwa terjadi dalam suatu konteks tertentu."
   ]
  },
  {
   "cell_type": "markdown",
   "id": "dbd90ff3",
   "metadata": {},
   "source": []
  },
  {
   "cell_type": "code",
   "execution_count": 7,
   "id": "5ea60850",
   "metadata": {},
   "outputs": [],
   "source": [
    "import pandas as pd\n",
    "import numpy as np "
   ]
  },
  {
   "cell_type": "code",
   "execution_count": 8,
   "id": "aa9980f0",
   "metadata": {},
   "outputs": [],
   "source": [
    "df = pd.read_csv('/Users/jojomac/introduction_python/dataset/sales data-set.csv')"
   ]
  },
  {
   "cell_type": "code",
   "execution_count": 9,
   "id": "2a716656",
   "metadata": {},
   "outputs": [
    {
     "data": {
      "text/html": [
       "<div>\n",
       "<style scoped>\n",
       "    .dataframe tbody tr th:only-of-type {\n",
       "        vertical-align: middle;\n",
       "    }\n",
       "\n",
       "    .dataframe tbody tr th {\n",
       "        vertical-align: top;\n",
       "    }\n",
       "\n",
       "    .dataframe thead th {\n",
       "        text-align: right;\n",
       "    }\n",
       "</style>\n",
       "<table border=\"1\" class=\"dataframe\">\n",
       "  <thead>\n",
       "    <tr style=\"text-align: right;\">\n",
       "      <th></th>\n",
       "      <th>Store</th>\n",
       "      <th>Dept</th>\n",
       "      <th>Date</th>\n",
       "      <th>Weekly_Sales</th>\n",
       "      <th>IsHoliday</th>\n",
       "    </tr>\n",
       "  </thead>\n",
       "  <tbody>\n",
       "    <tr>\n",
       "      <th>0</th>\n",
       "      <td>1</td>\n",
       "      <td>1</td>\n",
       "      <td>05/02/2010</td>\n",
       "      <td>24924.50</td>\n",
       "      <td>False</td>\n",
       "    </tr>\n",
       "    <tr>\n",
       "      <th>1</th>\n",
       "      <td>1</td>\n",
       "      <td>1</td>\n",
       "      <td>12/02/2010</td>\n",
       "      <td>46039.49</td>\n",
       "      <td>True</td>\n",
       "    </tr>\n",
       "    <tr>\n",
       "      <th>2</th>\n",
       "      <td>1</td>\n",
       "      <td>1</td>\n",
       "      <td>19/02/2010</td>\n",
       "      <td>41595.55</td>\n",
       "      <td>False</td>\n",
       "    </tr>\n",
       "    <tr>\n",
       "      <th>3</th>\n",
       "      <td>1</td>\n",
       "      <td>1</td>\n",
       "      <td>26/02/2010</td>\n",
       "      <td>19403.54</td>\n",
       "      <td>False</td>\n",
       "    </tr>\n",
       "    <tr>\n",
       "      <th>4</th>\n",
       "      <td>1</td>\n",
       "      <td>1</td>\n",
       "      <td>05/03/2010</td>\n",
       "      <td>21827.90</td>\n",
       "      <td>False</td>\n",
       "    </tr>\n",
       "    <tr>\n",
       "      <th>5</th>\n",
       "      <td>1</td>\n",
       "      <td>1</td>\n",
       "      <td>12/03/2010</td>\n",
       "      <td>21043.39</td>\n",
       "      <td>False</td>\n",
       "    </tr>\n",
       "    <tr>\n",
       "      <th>6</th>\n",
       "      <td>1</td>\n",
       "      <td>1</td>\n",
       "      <td>19/03/2010</td>\n",
       "      <td>22136.64</td>\n",
       "      <td>False</td>\n",
       "    </tr>\n",
       "    <tr>\n",
       "      <th>7</th>\n",
       "      <td>1</td>\n",
       "      <td>1</td>\n",
       "      <td>26/03/2010</td>\n",
       "      <td>26229.21</td>\n",
       "      <td>False</td>\n",
       "    </tr>\n",
       "    <tr>\n",
       "      <th>8</th>\n",
       "      <td>1</td>\n",
       "      <td>1</td>\n",
       "      <td>02/04/2010</td>\n",
       "      <td>57258.43</td>\n",
       "      <td>False</td>\n",
       "    </tr>\n",
       "    <tr>\n",
       "      <th>9</th>\n",
       "      <td>1</td>\n",
       "      <td>1</td>\n",
       "      <td>09/04/2010</td>\n",
       "      <td>42960.91</td>\n",
       "      <td>False</td>\n",
       "    </tr>\n",
       "  </tbody>\n",
       "</table>\n",
       "</div>"
      ],
      "text/plain": [
       "   Store  Dept        Date  Weekly_Sales  IsHoliday\n",
       "0      1     1  05/02/2010      24924.50      False\n",
       "1      1     1  12/02/2010      46039.49       True\n",
       "2      1     1  19/02/2010      41595.55      False\n",
       "3      1     1  26/02/2010      19403.54      False\n",
       "4      1     1  05/03/2010      21827.90      False\n",
       "5      1     1  12/03/2010      21043.39      False\n",
       "6      1     1  19/03/2010      22136.64      False\n",
       "7      1     1  26/03/2010      26229.21      False\n",
       "8      1     1  02/04/2010      57258.43      False\n",
       "9      1     1  09/04/2010      42960.91      False"
      ]
     },
     "execution_count": 9,
     "metadata": {},
     "output_type": "execute_result"
    }
   ],
   "source": [
    "df.head(10)"
   ]
  },
  {
   "cell_type": "markdown",
   "id": "1aabc211",
   "metadata": {},
   "source": [
    "### Statistik Descriptive"
   ]
  },
  {
   "cell_type": "code",
   "execution_count": 10,
   "id": "75e31e39",
   "metadata": {},
   "outputs": [],
   "source": [
    "data = df['Weekly_Sales']"
   ]
  },
  {
   "cell_type": "code",
   "execution_count": 11,
   "id": "b0594b88",
   "metadata": {},
   "outputs": [
    {
     "data": {
      "text/plain": [
       "0         24924.50\n",
       "1         46039.49\n",
       "2         41595.55\n",
       "3         19403.54\n",
       "4         21827.90\n",
       "            ...   \n",
       "421565      508.37\n",
       "421566      628.10\n",
       "421567     1061.02\n",
       "421568      760.01\n",
       "421569     1076.80\n",
       "Name: Weekly_Sales, Length: 421570, dtype: float64"
      ]
     },
     "execution_count": 11,
     "metadata": {},
     "output_type": "execute_result"
    }
   ],
   "source": [
    "data"
   ]
  },
  {
   "cell_type": "code",
   "execution_count": null,
   "id": "bf71eb9a",
   "metadata": {},
   "outputs": [],
   "source": []
  },
  {
   "cell_type": "code",
   "execution_count": 17,
   "id": "e3a31421",
   "metadata": {},
   "outputs": [
    {
     "name": "stdout",
     "output_type": "stream",
     "text": [
      "Mean: 15981.25812346704\n",
      "Median: 7612.03\n",
      "Mode: 10.0\n"
     ]
    }
   ],
   "source": [
    "mean_value = np.mean(data)# mean merupakan rata rata\n",
    "median_value = np.median(data)#medaian merupakan data tengah\n",
    "mode_value = pd.Series(data).mode()[0] # modus merupakan data yang paling sering muncuk\n",
    "\n",
    "print(\"Mean:\", mean_value)\n",
    "print(\"Median:\", median_value)\n",
    "print(\"Mode:\", mode_value)\n"
   ]
  },
  {
   "cell_type": "code",
   "execution_count": 18,
   "id": "7313cf1c",
   "metadata": {},
   "outputs": [
    {
     "name": "stdout",
     "output_type": "stream",
     "text": [
      "Range: 698088.2999999999\n"
     ]
    }
   ],
   "source": [
    "range_value = np.max(data) - np.min(data)# range merupakan interval dari nilai maksimum dengan minimum\n",
    "\n",
    "\n",
    "print(\"Range:\", range_value)\n",
    "\n"
   ]
  },
  {
   "cell_type": "markdown",
   "id": "b57ffd3a",
   "metadata": {},
   "source": [
    "### variance\n",
    "\n",
    "Varians adalah ukuran dispersi atau sebaran data yang mengukur rata-rata dari kuadrat selisih antara setiap data dengan nilai rata-rata. Varians memberikan gambaran tentang sejauh mana data tersebar dari nilai tengah (rata-rata). Nilai varians yang tinggi menandakan bahwa data tersebar lebih luas dari rata-rata, sedangkan varians yang rendah menandakan bahwa data cenderung berdekatan dengan rata-rata.\n"
   ]
  },
  {
   "cell_type": "raw",
   "id": "fd96a286",
   "metadata": {},
   "source": []
  },
  {
   "cell_type": "markdown",
   "id": "3f6723f8",
   "metadata": {},
   "source": [
    "### standar deviation\n",
    "\n",
    "stander deviasi adalah akar kuadrat dari varians dan sering digunakan karena dinyatakan dalam satuan yang sama dengan data asli. standar deviasi memberikan pemahaman yang lebih intuitif tentang sebaran data dibandingkan varians.\n",
    "Rumus standar deviasi adalah sebagai berikut:\n",
    "\n",
    "std_populasi = sqrt(varians_populasi)\n",
    "\n",
    "std_sampel = qrt(varians_sampel)\n",
    " \n",
    "\n",
    "Simpangan baku berguna untuk memahami rata-rata deviasi dari nilai rata-rata. Simpangan baku kecil menandakan bahwa data cenderung berdekatan dengan rata-rata, sedangkan simpangan baku besar menandakan bahwa data tersebar lebih luas dari rata-rata."
   ]
  },
  {
   "cell_type": "code",
   "execution_count": 20,
   "id": "e741276c",
   "metadata": {},
   "outputs": [
    {
     "name": "stdout",
     "output_type": "stream",
     "text": [
      "Variance: 515796633.3245929\n",
      "Standard Deviation: 22711.15658271487\n"
     ]
    }
   ],
   "source": [
    "variance_value = np.var(data) #\n",
    "std_deviation_value = np.std(data)\n",
    "\n",
    "print(\"Variance:\", variance_value)\n",
    "print(\"Standard Deviation:\", std_deviation_value)"
   ]
  },
  {
   "cell_type": "code",
   "execution_count": 15,
   "id": "bff5c904",
   "metadata": {},
   "outputs": [
    {
     "name": "stdout",
     "output_type": "stream",
     "text": [
      "Frequency Distribution:\n",
      "10.00      353\n",
      "5.00       289\n",
      "20.00      232\n",
      "15.00      215\n",
      "12.00      175\n",
      "          ... \n",
      "1946.71      1\n",
      "2117.63      1\n",
      "2184.65      1\n",
      "2667.10      1\n",
      "1076.80      1\n",
      "Name: Weekly_Sales, Length: 359464, dtype: int64\n"
     ]
    }
   ],
   "source": [
    "frequency_table = pd.Series(data).value_counts()\n",
    "print(\"Frequency Distribution:\")\n",
    "print(frequency_table)\n"
   ]
  },
  {
   "cell_type": "code",
   "execution_count": 16,
   "id": "f0c8d2c0",
   "metadata": {},
   "outputs": [
    {
     "name": "stderr",
     "output_type": "stream",
     "text": [
      "Unable to revert mtime: /Library/Fonts\n",
      "Fontconfig warning: ignoring UTF-8: not a valid region tag\n"
     ]
    },
    {
     "data": {
      "image/png": "[encoded data removed]",
      "text/plain": [
       "<Figure size 640x480 with 1 Axes>"
      ]
     },
     "metadata": {},
     "output_type": "display_data"
    },
    {
     "data": {
      "image/png": "[encoded data removed]",
      "text/plain": [
       "<Figure size 640x480 with 1 Axes>"
      ]
     },
     "metadata": {},
     "output_type": "display_data"
    }
   ],
   "source": [
    "import matplotlib.pyplot as plt\n",
    "\n",
    "# Histogram\n",
    "plt.hist(data, bins=5, edgecolor='black')\n",
    "plt.title(\"Histogram\")\n",
    "plt.xlabel(\"Values\")\n",
    "plt.ylabel(\"Frequency\")\n",
    "plt.show()\n",
    "\n",
    "# Box Plot\n",
    "plt.boxplot(data)\n",
    "plt.title(\"Box Plot\")\n",
    "plt.ylabel(\"Values\")\n",
    "plt.show()\n"
   ]
  },
  {
   "cell_type": "markdown",
   "id": "cc5aa8ab",
   "metadata": {},
   "source": [
    "## statistik inference"
   ]
  },
  {
   "cell_type": "markdown",
   "id": "dd760bd7",
   "metadata": {},
   "source": [
    "Statistik Inference merupakan sebuah penerapan statistik dalam membantu dalam pembuatan prediksi, penarikan kesimpulan, atau pengujian hipotesis tentang populasi berdasarkan sampel data yang ada ."
   ]
  },
  {
   "cell_type": "markdown",
   "id": "dfb2574d",
   "metadata": {},
   "source": [
    "### uji hipotesis\n",
    "\n",
    "Hipotesis adalah suatu anggapan atau dugaan sementara terhadap suatu problem atau masalah yang sedang dihadapi. Pengujian hipotesis dilakukan untuk membuktikan suatu pernyataan dan untuk menguji apakah data yang digunakan sudah menggambarkan populasi\n",
    "\n",
    "h0 merupakan pernyataan yang ingin diuji kebenarannya <br>\n",
    "h1 merupakan yang bertengangan dengan h0<br>\n",
    "p_value merupakan probabilitas dari statistik yang sedang diuji"
   ]
  },
  {
   "cell_type": "code",
   "execution_count": 25,
   "id": "b6080180",
   "metadata": {},
   "outputs": [
    {
     "name": "stdout",
     "output_type": "stream",
     "text": [
      "0.5816333668955778\n",
      "Gagal Tolak h0. Tidak terdapat perbedaan dari kedua group tersebut\n"
     ]
    }
   ],
   "source": [
    "import numpy as np\n",
    "from scipy.stats import ttest_ind\n",
    "\n",
    "# Sample data for two groups\n",
    "group1 = np.array([25, 30, 35, 40, 45])\n",
    "group2 = np.array([20, 28, 32, 38, 42])\n",
    "\n",
    "# Perform t-test for independent samples\n",
    "t_stat, p_value = ttest_ind(group1, group2)\n",
    "\n",
    "#h0 = tidak ada perbedaan siginifikan dari kedua group tersebut\n",
    "\n",
    "# Check the p-value to make a decision\n",
    "alpha = 0.05  # significance level\n",
    "print(p_value)\n",
    "if p_value < alpha:\n",
    "    print(\"Tolak hipotesis h0, Terdapat perbedaan significan dari kedua grup.\")\n",
    "else:\n",
    "    print(\"Gagal Tolak h0. Tidak terdapat perbedaan dari kedua group tersebut\")\n"
   ]
  },
  {
   "cell_type": "markdown",
   "id": "96479232",
   "metadata": {},
   "source": [
    "### tingkat signifikansi \n",
    "\n",
    "besar kecilnya toleransi dalam menerima suatu kesimpulan"
   ]
  },
  {
   "cell_type": "code",
   "execution_count": 26,
   "id": "9955fbc0",
   "metadata": {},
   "outputs": [
    {
     "name": "stdout",
     "output_type": "stream",
     "text": [
      "Confidence Interval (95%): (21.67074705193304, 43.32925294806696)\n"
     ]
    }
   ],
   "source": [
    "import numpy as np\n",
    "import statsmodels.stats.api as sms\n",
    "\n",
    "# Sample data\n",
    "data = np.array([10, 15, 20, 25, 30, 35, 40, 45, 50, 55])\n",
    "\n",
    "# Calculate the confidence interval for the mean\n",
    "conf_interval = sms.DescrStatsW(data).tconfint_mean()\n",
    "\n",
    "print(\"Confidence Interval (95%):\", conf_interval)\n"
   ]
  },
  {
   "cell_type": "code",
   "execution_count": null,
   "id": "c443b1b7",
   "metadata": {},
   "outputs": [],
   "source": []
  }
 ],
 "metadata": {
  "kernelspec": {
   "display_name": "Python 3 (ipykernel)",
   "language": "python",
   "name": "python3"
  },
  "language_info": {
   "codemirror_mode": {
    "name": "ipython",
    "version": 3
   },
   "file_extension": ".py",
   "mimetype": "text/x-python",
   "name": "python",
   "nbconvert_exporter": "python",
   "pygments_lexer": "ipython3",
   "version": "3.10.9"
  }
 },
 "nbformat": 4,
 "nbformat_minor": 5
}
