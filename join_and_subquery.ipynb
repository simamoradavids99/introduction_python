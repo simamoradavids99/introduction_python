{
 "cells": [
  {
   "cell_type": "code",
   "execution_count": 1,
   "metadata": {},
   "outputs": [],
   "source": [
    "#create connection\n",
    "# import sqlite package\n",
    "import sqlite3\n",
    "import pandas as pd"
   ]
  },
  {
   "cell_type": "code",
   "execution_count": 2,
   "id": "aff2970d",
   "metadata": {},
   "outputs": [],
   "source": [
    "#open sample database \n",
    "conn_1 = sqlite3.connect('/Users/jojomac/introduction_python/database/chinook.db')\n",
    "\n",
    "#membuat cursor\n",
    "c_1 = conn_1.cursor()"
   ]
  },
  {
   "cell_type": "code",
   "execution_count": 3,
   "id": "50a7bf8e",
   "metadata": {},
   "outputs": [
    {
     "data": {
      "text/plain": [
       "<sqlite3.Cursor at 0x11d6dc3c0>"
      ]
     },
     "execution_count": 3,
     "metadata": {},
     "output_type": "execute_result"
    }
   ],
   "source": [
    "c_1.execute(\"SELECT name FROM sqlite_master where type = 'table'\")"
   ]
  },
  {
   "cell_type": "code",
   "execution_count": 4,
   "id": "91b7a903",
   "metadata": {},
   "outputs": [
    {
     "name": "stdout",
     "output_type": "stream",
     "text": [
      "[('albums',), ('sqlite_sequence',), ('artists',), ('customers',), ('employees',), ('genres',), ('invoices',), ('invoice_items',), ('media_types',), ('playlists',), ('playlist_track',), ('tracks',), ('sqlite_stat1',)]\n"
     ]
    }
   ],
   "source": [
    "#cek kolom yang ada pada sample database\n",
    "print(c_1.fetchall())"
   ]
  },
  {
   "cell_type": "markdown",
   "id": "63fed382",
   "metadata": {},
   "source": [
    "Sebelum mengimplementasikan joins dalam sql alangkah baiknya jika mempelajari diagram / erd dari struktur tabel yang kita miliki <br>\n",
    "<img src=\"/Users/jojomac/introduction_python/database/sqlite-sample-database-diagram-color/sqlite-sample-database-diagram-color_page-0001.jpeg\" alt=\"database schema\" width=\"100\">\n",
    "\n",
    "![Example Image](/Users/jojomac/introduction_python/database/sqlite-sample-database-diagram-color/sqlite-sample-database-diagram-color_page-0001.jpeg)\n"
   ]
  },
  {
   "cell_type": "code",
   "execution_count": null,
   "id": "13b300e6",
   "metadata": {},
   "outputs": [],
   "source": []
  }
 ],
 "metadata": {
  "kernelspec": {
   "display_name": "Python 3",
   "language": "python",
   "name": "python3"
  },
  "language_info": {
   "codemirror_mode": {
    "name": "ipython",
    "version": 3
   },
   "file_extension": ".py",
   "mimetype": "text/x-python",
   "name": "python",
   "nbconvert_exporter": "python",
   "pygments_lexer": "ipython3",
   "version": "3.11.3"
  }
 },
 "nbformat": 4,
 "nbformat_minor": 5
}
