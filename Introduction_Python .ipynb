{
  "nbformat": 4,
  "nbformat_minor": 0,
  "metadata": {
    "colab": {
      "provenance": []
    },
    "kernelspec": {
      "name": "python3",
      "display_name": "Python 3"
    },
    "language_info": {
      "name": "python"
    }
  },
  "cells": [
    {
      "cell_type": "markdown",
      "source": [
        "##1. Start with Hello World"
      ],
      "metadata": {
        "id": "EO9ixRYxCsqW"
      }
    },
    {
      "cell_type": "code",
      "execution_count": 1,
      "metadata": {
        "colab": {
          "base_uri": "https://localhost:8080/"
        },
        "id": "BFB-HGivCWVj",
        "outputId": "bb346629-2215-4c5c-b732-b088d00fe76c"
      },
      "outputs": [
        {
          "output_type": "stream",
          "name": "stdout",
          "text": [
            "Hello World\n"
          ]
        }
      ],
      "source": [
        "print('Hello World')"
      ]
    },
    {
      "cell_type": "markdown",
      "source": [],
      "metadata": {
        "id": "7ZEec9cBBGb1"
      }
    },
    {
      "cell_type": "markdown",
      "source": [
        "## 2.Variables\n",
        "\n",
        "Dalam standar pemrograman terdapat beberapa aturan dalam penggunaan variabel (naming convencion) yaitu camelCase, snake_case, dan CamelCase. Ketiga naming convencion ini valid , dan dilarang untuk menggabungkan angka atau karakter kedalam penamaan variabel"
      ],
      "metadata": {
        "id": "3vcN0UWFC_JW"
      }
    },
    {
      "cell_type": "code",
      "source": [
        "camelCase = 'camel'\n",
        "snake_case = 'snake'\n",
        "PascalCase = 'pascal'\n",
        "\n"
      ],
      "metadata": {
        "id": "6fKS_RlWCvIn"
      },
      "execution_count": 2,
      "outputs": []
    },
    {
      "cell_type": "code",
      "source": [
        "camelCase"
      ],
      "metadata": {
        "colab": {
          "base_uri": "https://localhost:8080/",
          "height": 35
        },
        "id": "c8P5KR43DhCw",
        "outputId": "9da7bce6-2bbc-42c7-e0dc-ab78a3f9cbf8"
      },
      "execution_count": 3,
      "outputs": [
        {
          "output_type": "execute_result",
          "data": {
            "text/plain": [
              "'camel'"
            ],
            "application/vnd.google.colaboratory.intrinsic+json": {
              "type": "string"
            }
          },
          "metadata": {},
          "execution_count": 3
        }
      ]
    },
    {
      "cell_type": "code",
      "source": [
        "snake_case"
      ],
      "metadata": {
        "colab": {
          "base_uri": "https://localhost:8080/",
          "height": 35
        },
        "id": "I8D0BDDnDs0R",
        "outputId": "ac41721f-f180-4e6f-b49e-2c0f3665ca6c"
      },
      "execution_count": 4,
      "outputs": [
        {
          "output_type": "execute_result",
          "data": {
            "text/plain": [
              "'snake'"
            ],
            "application/vnd.google.colaboratory.intrinsic+json": {
              "type": "string"
            }
          },
          "metadata": {},
          "execution_count": 4
        }
      ]
    },
    {
      "cell_type": "code",
      "source": [
        "PascalCase"
      ],
      "metadata": {
        "colab": {
          "base_uri": "https://localhost:8080/",
          "height": 35
        },
        "id": "wtiIEfo1EK1z",
        "outputId": "6ea1babd-9b3d-47b7-b665-b06b3fc3bad1"
      },
      "execution_count": 5,
      "outputs": [
        {
          "output_type": "execute_result",
          "data": {
            "text/plain": [
              "'pascal'"
            ],
            "application/vnd.google.colaboratory.intrinsic+json": {
              "type": "string"
            }
          },
          "metadata": {},
          "execution_count": 5
        }
      ]
    },
    {
      "cell_type": "code",
      "source": [
        "#1arm = 'one'"
      ],
      "metadata": {
        "id": "zZWapSVjEMBC"
      },
      "execution_count": 6,
      "outputs": []
    },
    {
      "cell_type": "markdown",
      "source": [
        "## 2.Comment\n",
        "\n",
        "Comment meruapakan suatu tindakan untuk menambahkan kalimat dalam struktur kode yang sedang kita buat tanpa harus perlu di compile oleh compiler, misalnya untuk memberikan step pengerjaan atau menjelaskan detail penggunaan suatu kode"
      ],
      "metadata": {
        "id": "JI5g6GrnEdaC"
      }
    },
    {
      "cell_type": "code",
      "source": [
        "world = 'hello world' # cara membuat variabel\n",
        "# hello = 'hello world'"
      ],
      "metadata": {
        "id": "XWGaeJ9WEQK9"
      },
      "execution_count": 7,
      "outputs": []
    },
    {
      "cell_type": "code",
      "source": [
        "world"
      ],
      "metadata": {
        "colab": {
          "base_uri": "https://localhost:8080/",
          "height": 35
        },
        "id": "naMNRWIBFTDm",
        "outputId": "7190cc5d-4f8c-4be4-ff07-1b0cb8ae31ad"
      },
      "execution_count": 8,
      "outputs": [
        {
          "output_type": "execute_result",
          "data": {
            "text/plain": [
              "'hello world'"
            ],
            "application/vnd.google.colaboratory.intrinsic+json": {
              "type": "string"
            }
          },
          "metadata": {},
          "execution_count": 8
        }
      ]
    },
    {
      "cell_type": "code",
      "source": [
        "#hello"
      ],
      "metadata": {
        "id": "rkm7oFY5FXuu"
      },
      "execution_count": 9,
      "outputs": []
    },
    {
      "cell_type": "markdown",
      "source": [
        "Pada line pertama terlihat bahwa saat mendeklarasikan variabel world kita menambahkan keterangan dengan comment untuk memberikan penjelasan / detail, sedangkan pada line kedua kodenya di berikan komen sehingga tidak ikut diekseskusi dan menimbulkan error ketika variabel hello ingin kita panggil , cara pengguaan komen pada python adalah dengan menambahkan tanda # pada kodingan"
      ],
      "metadata": {
        "id": "LEAfnnSQE_jg"
      }
    },
    {
      "cell_type": "markdown",
      "source": [
        "## 3. Data Types\n",
        "Data Types merupakan jenis atau pengelompokan suatu data yang akan disimpan ke variabel sehingga computer dapat mengenalinya. Terdapat beberapa jenis tipe data diantaranya\n",
        "\n",
        "1. INTEGER\n",
        "2. FLOAT\n",
        "3. STRINGS\n",
        "4. BOOLEAN\n",
        "5. LISTS\n",
        "6. TUPLES\n",
        "7. DICTIONARIES\n"
      ],
      "metadata": {
        "id": "j34gZ0XVFfbI"
      }
    },
    {
      "cell_type": "markdown",
      "source": [
        "###3.1 Integer\n",
        "Integer berarti bilangan bulat mis : 1,3,5,10,200, dll"
      ],
      "metadata": {
        "id": "N_9eDFa3HrfL"
      }
    },
    {
      "cell_type": "code",
      "source": [
        "a = 1\n",
        "b = 2"
      ],
      "metadata": {
        "id": "rwAEUoPTE94T"
      },
      "execution_count": 10,
      "outputs": []
    },
    {
      "cell_type": "code",
      "source": [
        "print(a, b)\n",
        "print(type(a), type(b))"
      ],
      "metadata": {
        "colab": {
          "base_uri": "https://localhost:8080/"
        },
        "id": "kKt6vDJCHotn",
        "outputId": "700cf6c9-4f37-41ba-a4f0-84e167df54e3"
      },
      "execution_count": 11,
      "outputs": [
        {
          "output_type": "stream",
          "name": "stdout",
          "text": [
            "1 2\n",
            "<class 'int'> <class 'int'>\n"
          ]
        }
      ]
    },
    {
      "cell_type": "markdown",
      "source": [
        "*Notes : Salah satu kelebihan python adalah bahwa ketika kita mendeklarasikan suatu variabel kita tidak perlu mendefiniskan tipe datanya, dalam kata lain tipe datanya akan membaca ke value yang di assign ke variabel tersebut, pengecekan tipe data dapat dilakukan dengan menggunakan type*"
      ],
      "metadata": {
        "id": "cQ5yUfdgIesY"
      }
    },
    {
      "cell_type": "markdown",
      "source": [
        "### 3.2 FLoat\n",
        "Float merupakan tipe data yang bersifat desimal"
      ],
      "metadata": {
        "id": "wDunZPOaJF_0"
      }
    },
    {
      "cell_type": "code",
      "source": [
        "c = 3.14\n",
        "print(type(c))"
      ],
      "metadata": {
        "colab": {
          "base_uri": "https://localhost:8080/"
        },
        "id": "Lmf03KSYI0zS",
        "outputId": "30e19bb2-2364-4d37-edc4-1a6a508ecfde"
      },
      "execution_count": 12,
      "outputs": [
        {
          "output_type": "stream",
          "name": "stdout",
          "text": [
            "<class 'float'>\n"
          ]
        }
      ]
    },
    {
      "cell_type": "markdown",
      "source": [
        "###3.3 Strings\n",
        "String merupakan tipe data yang menyimpan kata atau kalimat\n"
      ],
      "metadata": {
        "id": "gFhD4qplJU6A"
      }
    },
    {
      "cell_type": "code",
      "source": [
        "d = \"data analysis\"\n",
        "print(d)\n",
        "print(type(d))"
      ],
      "metadata": {
        "colab": {
          "base_uri": "https://localhost:8080/"
        },
        "id": "0ofJ8QBgJNL_",
        "outputId": "ad79afad-9c2c-497a-d86d-ce109a31f3e4"
      },
      "execution_count": 13,
      "outputs": [
        {
          "output_type": "stream",
          "name": "stdout",
          "text": [
            "data analysis\n",
            "<class 'str'>\n"
          ]
        }
      ]
    },
    {
      "cell_type": "markdown",
      "source": [
        "###3.4 Boolean"
      ],
      "metadata": {
        "id": "YPbcNNw7Twr7"
      }
    },
    {
      "cell_type": "code",
      "source": [
        "a = True\n",
        "print(a)\n",
        "print(type(a))"
      ],
      "metadata": {
        "colab": {
          "base_uri": "https://localhost:8080/"
        },
        "id": "F-hCDzPhTu6W",
        "outputId": "91b4dc04-eb43-48db-cf66-dd739313dc56"
      },
      "execution_count": 14,
      "outputs": [
        {
          "output_type": "stream",
          "name": "stdout",
          "text": [
            "True\n",
            "<class 'bool'>\n"
          ]
        }
      ]
    },
    {
      "cell_type": "code",
      "source": [
        "a = 1\n",
        "b = 2"
      ],
      "metadata": {
        "id": "rqzWJEghYCHV"
      },
      "execution_count": 15,
      "outputs": []
    },
    {
      "cell_type": "code",
      "source": [
        "print(a > 1)"
      ],
      "metadata": {
        "colab": {
          "base_uri": "https://localhost:8080/"
        },
        "id": "P-e3V3qoYGYE",
        "outputId": "74e1b2ad-105c-4d20-dd8b-b29d1a1ba4f6"
      },
      "execution_count": 16,
      "outputs": [
        {
          "output_type": "stream",
          "name": "stdout",
          "text": [
            "False\n"
          ]
        }
      ]
    },
    {
      "cell_type": "markdown",
      "source": [
        "## 4. Condition\n",
        "Pada pemrograman condition digunakan untuk pengecekan suatu value atau logika tertentu\n",
        "Dalam bahasa pemrograman python dan bahasa pemrograman pada umumnya condition menggunakan if, else, else if / elif (pada python)\n"
      ],
      "metadata": {
        "id": "KECii-3jBw4S"
      }
    },
    {
      "cell_type": "code",
      "source": [
        "#contoh penggunaan if\n",
        "a = 1\n",
        "if(a == 1):\n",
        "  print('benar')"
      ],
      "metadata": {
        "id": "kIQ8yKOlaM7A",
        "colab": {
          "base_uri": "https://localhost:8080/"
        },
        "outputId": "4b076dbe-9c75-4503-947f-784222603441"
      },
      "execution_count": 17,
      "outputs": [
        {
          "output_type": "stream",
          "name": "stdout",
          "text": [
            "benar\n"
          ]
        }
      ]
    },
    {
      "cell_type": "code",
      "source": [
        "#contoh penggunaan if dan else\n",
        "b = 2\n",
        "if(a == 1):\n",
        "  print('benar')\n",
        "else:\n",
        "  print('salah')"
      ],
      "metadata": {
        "id": "YRL2mo9gCPxG",
        "colab": {
          "base_uri": "https://localhost:8080/"
        },
        "outputId": "8c8d7f55-75ec-4cbb-d080-d89031f4284a"
      },
      "execution_count": 18,
      "outputs": [
        {
          "output_type": "stream",
          "name": "stdout",
          "text": [
            "benar\n"
          ]
        }
      ]
    },
    {
      "cell_type": "markdown",
      "source": [
        "### Notes\n",
        "Perhatikan perbedaan antara penggunaan = dan == , dalam pemrograman = digunakan untuk mengassign value ke variabel sedangkan == untuk melakukan pengecekan value kedalam variabel tersebut"
      ],
      "metadata": {
        "id": "DuOT4jYTC7fi"
      }
    },
    {
      "cell_type": "code",
      "source": [
        "#contoh penggunaan if , else, dan elif\n",
        "c =3\n",
        "if (c == 3):\n",
        "     print(\"ini adalah angka 3\")\n",
        "elif (c > 3):\n",
        "     print(\"lebih besar dari 5\")\n",
        "else:\n",
        "     print(\"lebih kecil dari 5\")"
      ],
      "metadata": {
        "colab": {
          "base_uri": "https://localhost:8080/"
        },
        "id": "xYsaZ-ylCj7u",
        "outputId": "dbced759-1cec-45e3-c4a5-a25835d83ea5"
      },
      "execution_count": 19,
      "outputs": [
        {
          "output_type": "stream",
          "name": "stdout",
          "text": [
            "ini adalah angka 3\n"
          ]
        }
      ]
    },
    {
      "cell_type": "markdown",
      "source": [
        "Contoh Studi Kasus :\n",
        "Seorang guru ingin melakukan grading pada ujian mendatang dengan ketentutan sebagai berikut : <br>\n",
        "0 - 29 : E <br>\n",
        "30 - 49 : D<br>\n",
        "50 - 69 : C<br>\n",
        "70 - 79 : B <br>\n",
        "80 - 100 : A <br>\n",
        "\n",
        "Buatlah program dengan python dengan menggunakan logic tersebut. Gunakan input() untuk melakukan input nilai"
      ],
      "metadata": {
        "id": "SyD5RiU3DvIc"
      }
    },
    {
      "cell_type": "code",
      "source": [
        "input = int(input())"
      ],
      "metadata": {
        "id": "AAckhcMtDfjk",
        "colab": {
          "base_uri": "https://localhost:8080/"
        },
        "outputId": "58749302-00ac-474b-e4e3-85d4e7f9aef9"
      },
      "execution_count": 20,
      "outputs": [
        {
          "name": "stdout",
          "output_type": "stream",
          "text": [
            "45\n"
          ]
        }
      ]
    },
    {
      "cell_type": "code",
      "source": [
        "if (input >= 0 and input < 30):\n",
        "  print('E')\n",
        "elif(input >=30 and input < 50):\n",
        "  print('D')\n",
        "elif(input >= 50 and input < 70):\n",
        "  print('C')\n",
        "elif(input >= 70 and input <= 80):\n",
        "  print('B')\n",
        "else:\n",
        "  print('A')"
      ],
      "metadata": {
        "colab": {
          "base_uri": "https://localhost:8080/"
        },
        "id": "9v5vvi1NG54-",
        "outputId": "c8646826-9c01-46fb-c416-93dc19b3b762"
      },
      "execution_count": 21,
      "outputs": [
        {
          "output_type": "stream",
          "name": "stdout",
          "text": [
            "D\n"
          ]
        }
      ]
    },
    {
      "cell_type": "markdown",
      "source": [
        "## 5. Looping"
      ],
      "metadata": {
        "id": "7hEjqBjSK2BL"
      }
    },
    {
      "cell_type": "markdown",
      "source": [
        "Looping perulangan merupakan suatu fundamental dalam programming yang memungkinkan kita untuk melakukan control flow untuk mengeksekusi suatu instruksi atau perintah secara berulang.\n",
        "Contoh kasus : misalkan kita ingin membagi 10 coklat kepada 10 orang teman kita, maka kasus tersebut dapat disebut sebagai looping atau perulangan , karena kita melakukan instruksi untuk membagi coklat sebanyak 10 kali. Dan dengan konsep looping ini kita bisa membagi 10 coklat sekaligus dengan 1 instruksi kode.\n",
        "\n",
        "Terdapat 2 jenis looping dalam pemrograman yaitu for looping dan while looping. Berikut implementasinya\n"
      ],
      "metadata": {
        "id": "orsvPbWnLV3Y"
      }
    },
    {
      "cell_type": "markdown",
      "source": [
        "### 5. 1 For Looping\n",
        "For looping digunakan untuk melakukan suatu perulangan dalam suatu urutan misalkan : list, tuple, dan range."
      ],
      "metadata": {
        "id": "Cfd1-N8hMjZM"
      }
    },
    {
      "cell_type": "code",
      "source": [
        "materi = [\"python\", \"sql\", \"visdat\"]\n",
        "for i in materi:\n",
        "    print(\"Saya belajar\", i)\n"
      ],
      "metadata": {
        "colab": {
          "base_uri": "https://localhost:8080/"
        },
        "id": "pColNJwgHerT",
        "outputId": "a13cf460-2e4d-4279-9cd4-b77dd51f613f"
      },
      "execution_count": 22,
      "outputs": [
        {
          "output_type": "stream",
          "name": "stdout",
          "text": [
            "Saya belajar python\n",
            "Saya belajar sql\n",
            "Saya belajar visdat\n"
          ]
        }
      ]
    },
    {
      "cell_type": "markdown",
      "source": [
        "### 5.2 While Looping\n",
        "While looping digunakan untuk melakukan looping selama kondisi yang diberikan masih memberikan nilai true\n",
        "\n"
      ],
      "metadata": {
        "id": "H0ai4aiSTP0z"
      }
    },
    {
      "cell_type": "code",
      "source": [
        "count = 0\n",
        "while count < 5:\n",
        "    print(\"Count is:\", count)\n",
        "    count += 1"
      ],
      "metadata": {
        "colab": {
          "base_uri": "https://localhost:8080/"
        },
        "id": "vpKFH6HdRgt8",
        "outputId": "7919d63e-2404-4519-f02c-9411c9e8da75"
      },
      "execution_count": 23,
      "outputs": [
        {
          "output_type": "stream",
          "name": "stdout",
          "text": [
            "Count is: 0\n",
            "Count is: 1\n",
            "Count is: 2\n",
            "Count is: 3\n",
            "Count is: 4\n"
          ]
        }
      ]
    },
    {
      "cell_type": "code",
      "source": [
        "# Implementasi Studi kasus pembagian coklat\n",
        "# Misal total coklat 10\n",
        "num_chocolates = 10\n",
        "\n",
        "# Loop\n",
        "for friend in range(1, num_chocolates + 1):\n",
        "    print(\"Memberi chocolate\", friend)\n",
        "\n"
      ],
      "metadata": {
        "colab": {
          "base_uri": "https://localhost:8080/"
        },
        "id": "0DnCzcKQTkyQ",
        "outputId": "e33f0350-03a7-4169-ac72-721ae3527906"
      },
      "execution_count": 24,
      "outputs": [
        {
          "output_type": "stream",
          "name": "stdout",
          "text": [
            "Memberi chocolate 1\n",
            "Memberi chocolate 2\n",
            "Memberi chocolate 3\n",
            "Memberi chocolate 4\n",
            "Memberi chocolate 5\n",
            "Memberi chocolate 6\n",
            "Memberi chocolate 7\n",
            "Memberi chocolate 8\n",
            "Memberi chocolate 9\n",
            "Memberi chocolate 10\n"
          ]
        }
      ]
    },
    {
      "cell_type": "markdown",
      "source": [
        "### 5.3 Range\n",
        "Range pada python merupakan sebuah fungsi yang digunakan untuk mereturn suatu angka atau bilangan sesuai dengan statement/parameter yang diberikan dimana paramter dari range diantaranya adalah sebagai berikut: <br>\n",
        "\n",
        "<b>range(start, stop, step)<b>"
      ],
      "metadata": {
        "id": "pMpFWdPOVl7L"
      }
    },
    {
      "cell_type": "code",
      "source": [
        "for i in range(5):\n",
        "    print(i)\n"
      ],
      "metadata": {
        "colab": {
          "base_uri": "https://localhost:8080/"
        },
        "id": "dXby5hWvT3cu",
        "outputId": "2c379bd1-ec30-47e6-87ff-d692612b061e"
      },
      "execution_count": 25,
      "outputs": [
        {
          "output_type": "stream",
          "name": "stdout",
          "text": [
            "0\n",
            "1\n",
            "2\n",
            "3\n",
            "4\n"
          ]
        }
      ]
    },
    {
      "cell_type": "code",
      "source": [
        "for i in range(1, 11, 2):\n",
        "    print(i)\n"
      ],
      "metadata": {
        "colab": {
          "base_uri": "https://localhost:8080/"
        },
        "id": "O0_wlYKsXQo7",
        "outputId": "c4999609-cba5-4850-e339-91302d41e276"
      },
      "execution_count": 26,
      "outputs": [
        {
          "output_type": "stream",
          "name": "stdout",
          "text": [
            "1\n",
            "3\n",
            "5\n",
            "7\n",
            "9\n"
          ]
        }
      ]
    }
  ]
}